{
 "cells": [
  {
   "cell_type": "code",
   "execution_count": 101,
   "metadata": {},
   "outputs": [],
   "source": [
    "from langchain.embeddings.openai import OpenAIEmbeddings\n",
    "from langchain_community.vectorstores import FAISS\n",
    "import tiktoken\n",
    "import openai\n",
    "from langchain.text_splitter import RecursiveCharacterTextSplitter\n",
    "from langchain.chat_models import ChatOpenAI\n",
    "from langchain_core.output_parsers import StrOutputParser\n",
    "from langchain_core.prompts import ChatPromptTemplate\n",
    "from langchain_core.runnables import RunnableLambda, RunnablePassthrough\n",
    "import pandas as pd"
   ]
  },
  {
   "cell_type": "code",
   "execution_count": 198,
   "metadata": {},
   "outputs": [],
   "source": [
    "df2 = pd.read_csv(r'E:\\GRAD\\validation.csv')\n",
    "df2.to_excel('E:/GRAD/validation.xlsx')"
   ]
  },
  {
   "cell_type": "code",
   "execution_count": 206,
   "metadata": {},
   "outputs": [
    {
     "data": {
      "text/html": [
       "<div>\n",
       "<style scoped>\n",
       "    .dataframe tbody tr th:only-of-type {\n",
       "        vertical-align: middle;\n",
       "    }\n",
       "\n",
       "    .dataframe tbody tr th {\n",
       "        vertical-align: top;\n",
       "    }\n",
       "\n",
       "    .dataframe thead th {\n",
       "        text-align: right;\n",
       "    }\n",
       "</style>\n",
       "<table border=\"1\" class=\"dataframe\">\n",
       "  <thead>\n",
       "    <tr style=\"text-align: right;\">\n",
       "      <th></th>\n",
       "      <th>Unnamed: 0</th>\n",
       "      <th>id</th>\n",
       "      <th>title</th>\n",
       "      <th>context</th>\n",
       "      <th>question</th>\n",
       "      <th>answers</th>\n",
       "    </tr>\n",
       "  </thead>\n",
       "  <tbody>\n",
       "    <tr>\n",
       "      <th>0</th>\n",
       "      <td>0</td>\n",
       "      <td>621723207492</td>\n",
       "      <td>حمزة بن عبد المطلب</td>\n",
       "      <td>حمزة بن عبد المطلب الهاشمي القرشي صحابي من صحا...</td>\n",
       "      <td>من هو حمزة بن عبد المطلب؟</td>\n",
       "      <td>{'text': array(['صحابي من صحابة رسول الإسلام م...</td>\n",
       "    </tr>\n",
       "    <tr>\n",
       "      <th>1</th>\n",
       "      <td>1</td>\n",
       "      <td>189105393656</td>\n",
       "      <td>حمزة بن عبد المطلب</td>\n",
       "      <td>حمزة بن عبد المطلب الهاشمي القرشي صحابي من صحا...</td>\n",
       "      <td>بما وصفه رسول الله حمزه بن عبد المطلب؟</td>\n",
       "      <td>{'text': array(['وَخَيْرُ أَعْمَامِي'], dtype=...</td>\n",
       "    </tr>\n",
       "    <tr>\n",
       "      <th>2</th>\n",
       "      <td>2</td>\n",
       "      <td>662616978980</td>\n",
       "      <td>حمزة بن عبد المطلب</td>\n",
       "      <td>حمزة بن عبد المطلب الهاشمي القرشي صحابي من صحا...</td>\n",
       "      <td>بما وصف رسول الله على ؟</td>\n",
       "      <td>{'text': array(['«خَيْرُ إِخْوَتِي عَلِيٌّ،'],...</td>\n",
       "    </tr>\n",
       "    <tr>\n",
       "      <th>3</th>\n",
       "      <td>3</td>\n",
       "      <td>50146585922</td>\n",
       "      <td>حمزة بن عبد المطلب</td>\n",
       "      <td>أسلم حمزة في السنة الثانية من بعثة النبي محمد،...</td>\n",
       "      <td>متى اسلم حمزة؟</td>\n",
       "      <td>{'text': array(['في السنة الثانية من بعثة النب...</td>\n",
       "    </tr>\n",
       "    <tr>\n",
       "      <th>4</th>\n",
       "      <td>4</td>\n",
       "      <td>259563807541</td>\n",
       "      <td>حمزة بن عبد المطلب</td>\n",
       "      <td>أسلم حمزة في السنة الثانية من بعثة النبي محمد،...</td>\n",
       "      <td>و ماذا فعل حمزه فى غزوة بدر؟</td>\n",
       "      <td>{'text': array(['وقَتَلَ فيها شيبة بن ربيعة مب...</td>\n",
       "    </tr>\n",
       "    <tr>\n",
       "      <th>...</th>\n",
       "      <td>...</td>\n",
       "      <td>...</td>\n",
       "      <td>...</td>\n",
       "      <td>...</td>\n",
       "      <td>...</td>\n",
       "      <td>...</td>\n",
       "    </tr>\n",
       "    <tr>\n",
       "      <th>697</th>\n",
       "      <td>697</td>\n",
       "      <td>470812622665</td>\n",
       "      <td>السودان</td>\n",
       "      <td>استقل السودان عن بريطانيا و مصر في الأول من ين...</td>\n",
       "      <td>متى استعلت الحرب الأهلية في السودان؟</td>\n",
       "      <td>{'text': array(['منذ قبيل إعلان الاستقلال'], d...</td>\n",
       "    </tr>\n",
       "    <tr>\n",
       "      <th>698</th>\n",
       "      <td>698</td>\n",
       "      <td>950438628756</td>\n",
       "      <td>السودان</td>\n",
       "      <td>استقل السودان عن بريطانيا و مصر في الأول من ين...</td>\n",
       "      <td>متى توقفت الحرب الأهلية في السودان؟</td>\n",
       "      <td>{'text': array(['2005'], dtype=object), 'answe...</td>\n",
       "    </tr>\n",
       "    <tr>\n",
       "      <th>699</th>\n",
       "      <td>699</td>\n",
       "      <td>296368076837</td>\n",
       "      <td>السودان</td>\n",
       "      <td>تكررت الإنقلابات العسكرية في تاريخ السودان الح...</td>\n",
       "      <td>في أي سنة وقع آخر انقلاب عسكري في السودان؟</td>\n",
       "      <td>{'text': array(['عام 1989'], dtype=object), 'a...</td>\n",
       "    </tr>\n",
       "    <tr>\n",
       "      <th>700</th>\n",
       "      <td>700</td>\n",
       "      <td>349611596646</td>\n",
       "      <td>السودان</td>\n",
       "      <td>تكررت الإنقلابات العسكرية في تاريخ السودان الح...</td>\n",
       "      <td>من قاد الانقلاب العسكري؟</td>\n",
       "      <td>{'text': array(['العميد عمر البشير'], dtype=ob...</td>\n",
       "    </tr>\n",
       "    <tr>\n",
       "      <th>701</th>\n",
       "      <td>701</td>\n",
       "      <td>212974754962</td>\n",
       "      <td>السودان</td>\n",
       "      <td>تكررت الإنقلابات العسكرية في تاريخ السودان الح...</td>\n",
       "      <td>من كان رئيس الجكومة المدنية وقت الإنقلاب؟</td>\n",
       "      <td>{'text': array(['الصادق المهدي'], dtype=object...</td>\n",
       "    </tr>\n",
       "  </tbody>\n",
       "</table>\n",
       "<p>702 rows × 6 columns</p>\n",
       "</div>"
      ],
      "text/plain": [
       "     Unnamed: 0            id               title  \\\n",
       "0             0  621723207492  حمزة بن عبد المطلب   \n",
       "1             1  189105393656  حمزة بن عبد المطلب   \n",
       "2             2  662616978980  حمزة بن عبد المطلب   \n",
       "3             3   50146585922  حمزة بن عبد المطلب   \n",
       "4             4  259563807541  حمزة بن عبد المطلب   \n",
       "..          ...           ...                 ...   \n",
       "697         697  470812622665             السودان   \n",
       "698         698  950438628756             السودان   \n",
       "699         699  296368076837             السودان   \n",
       "700         700  349611596646             السودان   \n",
       "701         701  212974754962             السودان   \n",
       "\n",
       "                                               context  \\\n",
       "0    حمزة بن عبد المطلب الهاشمي القرشي صحابي من صحا...   \n",
       "1    حمزة بن عبد المطلب الهاشمي القرشي صحابي من صحا...   \n",
       "2    حمزة بن عبد المطلب الهاشمي القرشي صحابي من صحا...   \n",
       "3    أسلم حمزة في السنة الثانية من بعثة النبي محمد،...   \n",
       "4    أسلم حمزة في السنة الثانية من بعثة النبي محمد،...   \n",
       "..                                                 ...   \n",
       "697  استقل السودان عن بريطانيا و مصر في الأول من ين...   \n",
       "698  استقل السودان عن بريطانيا و مصر في الأول من ين...   \n",
       "699  تكررت الإنقلابات العسكرية في تاريخ السودان الح...   \n",
       "700  تكررت الإنقلابات العسكرية في تاريخ السودان الح...   \n",
       "701  تكررت الإنقلابات العسكرية في تاريخ السودان الح...   \n",
       "\n",
       "                                       question  \\\n",
       "0                     من هو حمزة بن عبد المطلب؟   \n",
       "1        بما وصفه رسول الله حمزه بن عبد المطلب؟   \n",
       "2                       بما وصف رسول الله على ؟   \n",
       "3                                متى اسلم حمزة؟   \n",
       "4                  و ماذا فعل حمزه فى غزوة بدر؟   \n",
       "..                                          ...   \n",
       "697        متى استعلت الحرب الأهلية في السودان؟   \n",
       "698         متى توقفت الحرب الأهلية في السودان؟   \n",
       "699  في أي سنة وقع آخر انقلاب عسكري في السودان؟   \n",
       "700                    من قاد الانقلاب العسكري؟   \n",
       "701   من كان رئيس الجكومة المدنية وقت الإنقلاب؟   \n",
       "\n",
       "                                               answers  \n",
       "0    {'text': array(['صحابي من صحابة رسول الإسلام م...  \n",
       "1    {'text': array(['وَخَيْرُ أَعْمَامِي'], dtype=...  \n",
       "2    {'text': array(['«خَيْرُ إِخْوَتِي عَلِيٌّ،'],...  \n",
       "3    {'text': array(['في السنة الثانية من بعثة النب...  \n",
       "4    {'text': array(['وقَتَلَ فيها شيبة بن ربيعة مب...  \n",
       "..                                                 ...  \n",
       "697  {'text': array(['منذ قبيل إعلان الاستقلال'], d...  \n",
       "698  {'text': array(['2005'], dtype=object), 'answe...  \n",
       "699  {'text': array(['عام 1989'], dtype=object), 'a...  \n",
       "700  {'text': array(['العميد عمر البشير'], dtype=ob...  \n",
       "701  {'text': array(['الصادق المهدي'], dtype=object...  \n",
       "\n",
       "[702 rows x 6 columns]"
      ]
     },
     "execution_count": 206,
     "metadata": {},
     "output_type": "execute_result"
    }
   ],
   "source": [
    "# df = pd.read_csv(r'E:\\GRAD\\MODIF validation.csv')\n",
    "df = pd.read_excel(r'E:\\GRAD\\new data.xlsx')\n",
    "df"
   ]
  },
  {
   "cell_type": "code",
   "execution_count": 207,
   "metadata": {},
   "outputs": [],
   "source": [
    "contexts = df['context'].unique()\n",
    "titles = df['title'].unique()"
   ]
  },
  {
   "cell_type": "code",
   "execution_count": 208,
   "metadata": {},
   "outputs": [],
   "source": [
    "contexts = contexts.tolist()"
   ]
  },
  {
   "cell_type": "code",
   "execution_count": 209,
   "metadata": {},
   "outputs": [],
   "source": [
    "title_list = []\n",
    "for i in range(len(contexts)):\n",
    "    for j in range(len(df['title'])):\n",
    "        if contexts[i] == df['context'][j]:\n",
    "            title_list.append(df['title'][j])\n",
    "            break"
   ]
  },
  {
   "cell_type": "code",
   "execution_count": 210,
   "metadata": {},
   "outputs": [
    {
     "data": {
      "text/plain": [
       "234"
      ]
     },
     "execution_count": 210,
     "metadata": {},
     "output_type": "execute_result"
    }
   ],
   "source": [
    "len(title_list)"
   ]
  },
  {
   "cell_type": "code",
   "execution_count": 211,
   "metadata": {},
   "outputs": [
    {
     "data": {
      "text/plain": [
       "'القمر'"
      ]
     },
     "execution_count": 211,
     "metadata": {},
     "output_type": "execute_result"
    }
   ],
   "source": [
    "title_list[3]"
   ]
  },
  {
   "cell_type": "code",
   "execution_count": 182,
   "metadata": {},
   "outputs": [
    {
     "data": {
      "text/plain": [
       "'القمر هو القمر الطبيعي الوَحيد للأرض  بالإضافة إلى أنه خامس أكبر قمرٍ طبيعيٍ في المجموعة الشمسية. فهو يُعَدُ أكبر قمرٍ طبيعيٍ في المجموعة الشمسية من ناحية نسبة حجمه إلى كوكبه التابع له، حيث أن قطره يصل إلى ربع قطر الأرض، كما أن كتلته تصل إلى 1 على 81 من كتلة الأرض، هذا بالإضافة إلى أنه يُعَدُ ثاني أعلى قمرٍ من ناحية الكثافة بعد قمر إيو.'"
      ]
     },
     "execution_count": 182,
     "metadata": {},
     "output_type": "execute_result"
    }
   ],
   "source": [
    "contexts[3]"
   ]
  },
  {
   "cell_type": "code",
   "execution_count": 212,
   "metadata": {},
   "outputs": [],
   "source": [
    "from langchain.docstore.document import Document\n",
    "\n",
    "document_list = []\n",
    "for i in range(len(contexts)):\n",
    "    context = contexts[i]\n",
    "    title = title_list[i]\n",
    "    document_list.append(Document(page_content=context, metadata={\"title\": title}))"
   ]
  },
  {
   "cell_type": "code",
   "execution_count": 213,
   "metadata": {},
   "outputs": [
    {
     "name": "stdout",
     "output_type": "stream",
     "text": [
      "Split 234 documents into 234 chunks.\n"
     ]
    }
   ],
   "source": [
    "text_splitter = RecursiveCharacterTextSplitter(\n",
    "        chunk_size=4000,\n",
    "        chunk_overlap=500,\n",
    "        length_function=len,\n",
    "        add_start_index=True,\n",
    "    )\n",
    "chunks = text_splitter.split_documents(document_list)\n",
    "print(f\"Split {len(document_list)} documents into {len(chunks)} chunks.\")"
   ]
  },
  {
   "cell_type": "code",
   "execution_count": 106,
   "metadata": {},
   "outputs": [
    {
     "name": "stdout",
     "output_type": "stream",
     "text": [
      "Requirement already satisfied: langchain_mistralai in c:\\users\\osama\\anaconda3\\envs\\gpu\\lib\\site-packages (0.1.8)\n",
      "Requirement already satisfied: httpx<1,>=0.25.2 in c:\\users\\osama\\anaconda3\\envs\\gpu\\lib\\site-packages (from langchain_mistralai) (0.27.0)\n",
      "Requirement already satisfied: httpx-sse<1,>=0.3.1 in c:\\users\\osama\\anaconda3\\envs\\gpu\\lib\\site-packages (from langchain_mistralai) (0.4.0)\n",
      "Requirement already satisfied: langchain-core<0.3,>=0.2.0 in c:\\users\\osama\\anaconda3\\envs\\gpu\\lib\\site-packages (from langchain_mistralai) (0.2.5)\n",
      "Requirement already satisfied: tokenizers<1,>=0.15.1 in c:\\users\\osama\\anaconda3\\envs\\gpu\\lib\\site-packages (from langchain_mistralai) (0.15.2)\n",
      "Requirement already satisfied: anyio in c:\\users\\osama\\anaconda3\\envs\\gpu\\lib\\site-packages (from httpx<1,>=0.25.2->langchain_mistralai) (4.4.0)\n",
      "Requirement already satisfied: certifi in c:\\users\\osama\\anaconda3\\envs\\gpu\\lib\\site-packages (from httpx<1,>=0.25.2->langchain_mistralai) (2024.6.2)\n",
      "Requirement already satisfied: httpcore==1.* in c:\\users\\osama\\anaconda3\\envs\\gpu\\lib\\site-packages (from httpx<1,>=0.25.2->langchain_mistralai) (1.0.5)\n",
      "Requirement already satisfied: idna in c:\\users\\osama\\anaconda3\\envs\\gpu\\lib\\site-packages (from httpx<1,>=0.25.2->langchain_mistralai) (3.7)\n",
      "Requirement already satisfied: sniffio in c:\\users\\osama\\anaconda3\\envs\\gpu\\lib\\site-packages (from httpx<1,>=0.25.2->langchain_mistralai) (1.3.1)\n",
      "Requirement already satisfied: h11<0.15,>=0.13 in c:\\users\\osama\\anaconda3\\envs\\gpu\\lib\\site-packages (from httpcore==1.*->httpx<1,>=0.25.2->langchain_mistralai) (0.14.0)\n",
      "Requirement already satisfied: PyYAML>=5.3 in c:\\users\\osama\\anaconda3\\envs\\gpu\\lib\\site-packages (from langchain-core<0.3,>=0.2.0->langchain_mistralai) (6.0.1)\n",
      "Requirement already satisfied: jsonpatch<2.0,>=1.33 in c:\\users\\osama\\anaconda3\\envs\\gpu\\lib\\site-packages (from langchain-core<0.3,>=0.2.0->langchain_mistralai) (1.33)\n",
      "Requirement already satisfied: langsmith<0.2.0,>=0.1.66 in c:\\users\\osama\\anaconda3\\envs\\gpu\\lib\\site-packages (from langchain-core<0.3,>=0.2.0->langchain_mistralai) (0.1.75)\n",
      "Requirement already satisfied: packaging<24.0,>=23.2 in c:\\users\\osama\\anaconda3\\envs\\gpu\\lib\\site-packages (from langchain-core<0.3,>=0.2.0->langchain_mistralai) (23.2)\n",
      "Requirement already satisfied: pydantic<3,>=1 in c:\\users\\osama\\anaconda3\\envs\\gpu\\lib\\site-packages (from langchain-core<0.3,>=0.2.0->langchain_mistralai) (2.7.3)\n",
      "Requirement already satisfied: tenacity<9.0.0,>=8.1.0 in c:\\users\\osama\\anaconda3\\envs\\gpu\\lib\\site-packages (from langchain-core<0.3,>=0.2.0->langchain_mistralai) (8.3.0)\n",
      "Requirement already satisfied: huggingface_hub<1.0,>=0.16.4 in c:\\users\\osama\\anaconda3\\envs\\gpu\\lib\\site-packages (from tokenizers<1,>=0.15.1->langchain_mistralai) (0.23.3)\n",
      "Requirement already satisfied: filelock in c:\\users\\osama\\anaconda3\\envs\\gpu\\lib\\site-packages (from huggingface_hub<1.0,>=0.16.4->tokenizers<1,>=0.15.1->langchain_mistralai) (3.14.0)\n",
      "Requirement already satisfied: fsspec>=2023.5.0 in c:\\users\\osama\\anaconda3\\envs\\gpu\\lib\\site-packages (from huggingface_hub<1.0,>=0.16.4->tokenizers<1,>=0.15.1->langchain_mistralai) (2023.10.0)\n",
      "Requirement already satisfied: requests in c:\\users\\osama\\anaconda3\\envs\\gpu\\lib\\site-packages (from huggingface_hub<1.0,>=0.16.4->tokenizers<1,>=0.15.1->langchain_mistralai) (2.32.3)\n",
      "Requirement already satisfied: tqdm>=4.42.1 in c:\\users\\osama\\anaconda3\\envs\\gpu\\lib\\site-packages (from huggingface_hub<1.0,>=0.16.4->tokenizers<1,>=0.15.1->langchain_mistralai) (4.66.4)\n",
      "Requirement already satisfied: typing-extensions>=3.7.4.3 in c:\\users\\osama\\anaconda3\\envs\\gpu\\lib\\site-packages (from huggingface_hub<1.0,>=0.16.4->tokenizers<1,>=0.15.1->langchain_mistralai) (4.12.1)\n",
      "Requirement already satisfied: jsonpointer>=1.9 in c:\\users\\osama\\anaconda3\\envs\\gpu\\lib\\site-packages (from jsonpatch<2.0,>=1.33->langchain-core<0.3,>=0.2.0->langchain_mistralai) (2.4)\n",
      "Requirement already satisfied: orjson<4.0.0,>=3.9.14 in c:\\users\\osama\\anaconda3\\envs\\gpu\\lib\\site-packages (from langsmith<0.2.0,>=0.1.66->langchain-core<0.3,>=0.2.0->langchain_mistralai) (3.10.3)\n",
      "Requirement already satisfied: annotated-types>=0.4.0 in c:\\users\\osama\\anaconda3\\envs\\gpu\\lib\\site-packages (from pydantic<3,>=1->langchain-core<0.3,>=0.2.0->langchain_mistralai) (0.7.0)\n",
      "Requirement already satisfied: pydantic-core==2.18.4 in c:\\users\\osama\\anaconda3\\envs\\gpu\\lib\\site-packages (from pydantic<3,>=1->langchain-core<0.3,>=0.2.0->langchain_mistralai) (2.18.4)\n",
      "Requirement already satisfied: exceptiongroup>=1.0.2 in c:\\users\\osama\\anaconda3\\envs\\gpu\\lib\\site-packages (from anyio->httpx<1,>=0.25.2->langchain_mistralai) (1.2.1)\n",
      "Requirement already satisfied: charset-normalizer<4,>=2 in c:\\users\\osama\\anaconda3\\envs\\gpu\\lib\\site-packages (from requests->huggingface_hub<1.0,>=0.16.4->tokenizers<1,>=0.15.1->langchain_mistralai) (3.3.2)\n",
      "Requirement already satisfied: urllib3<3,>=1.21.1 in c:\\users\\osama\\anaconda3\\envs\\gpu\\lib\\site-packages (from requests->huggingface_hub<1.0,>=0.16.4->tokenizers<1,>=0.15.1->langchain_mistralai) (2.2.1)\n",
      "Requirement already satisfied: colorama in c:\\users\\osama\\anaconda3\\envs\\gpu\\lib\\site-packages (from tqdm>=4.42.1->huggingface_hub<1.0,>=0.16.4->tokenizers<1,>=0.15.1->langchain_mistralai) (0.4.6)\n"
     ]
    }
   ],
   "source": [
    "!pip install langchain_mistralai"
   ]
  },
  {
   "cell_type": "code",
   "execution_count": 214,
   "metadata": {},
   "outputs": [],
   "source": [
    "def format_docs(docs):\n",
    "    return \"\\n\\n\".join(doc.page_content for doc in docs)"
   ]
  },
  {
   "cell_type": "code",
   "execution_count": 231,
   "metadata": {},
   "outputs": [
    {
     "name": "stderr",
     "output_type": "stream",
     "text": [
      "c:\\Users\\Osama\\anaconda3\\envs\\GPU\\lib\\site-packages\\huggingface_hub\\file_download.py:1132: FutureWarning: `resume_download` is deprecated and will be removed in version 1.0.0. Downloads always resume when possible. If you want to force a new download, use `force_download=True`.\n",
      "  warnings.warn(\n"
     ]
    }
   ],
   "source": [
    "from langchain_community.embeddings import HuggingFaceEmbeddings\n",
    "from langchain_mistralai import ChatMistralAI\n",
    "\n",
    "model_name2=\"intfloat/multilingual-e5-base\"\n",
    "model = model_name2.split('/')\n",
    "# Get embeddings.\n",
    "embedding_model = HuggingFaceEmbeddings(model_name=model_name2)\n",
    "\n",
    "knowledge_base = FAISS.from_documents(chunks, embedding_model)\n",
    "\n",
    "retriever = knowledge_base.as_retriever(search_type=\"mmr\",\n",
    "                    search_kwargs={'k': 5, 'lambda_mult': 0.5})\n",
    "# template = \"\"\"\n",
    "# You are given a context this reteived from a database based on similarity between it and between the given question . Your role is to regenrate the answer of the qestion based on the provided context and please note to answer in arabic only:\n",
    "template = \"\"\"\n",
    "You are given a context retrieved from a database based on the similarity between it and the given question. Your role is to generate the answer to the question based on the provided context. Please note to answer only in Arabic.\n",
    "\n",
    "This is the retrieved context:\n",
    "{context}\n",
    "\n",
    "\n",
    "and here's the Question: {question}\n",
    "\"\"\"\n"
   ]
  },
  {
   "cell_type": "code",
   "execution_count": 232,
   "metadata": {},
   "outputs": [],
   "source": [
    "prompt = ChatPromptTemplate.from_template(template)\n",
    "\n",
    "#model = ChatOpenAI(model=\"\", openai_api_key='sk-proj-SyR3MBymitFuPptyAiavT3BlbkFJ9DK477Yqu2HQaZFgEOjW')\n",
    "import getpass\n",
    "import os\n",
    "\n",
    "os.environ[\"MISTRAL_API_KEY\"] = getpass.getpass()\n",
    "# rDptqgcc9pt8gepc0nKYzTKSKIsIhYc9"
   ]
  },
  {
   "cell_type": "code",
   "execution_count": 233,
   "metadata": {},
   "outputs": [],
   "source": [
    "from operator import itemgetter\n",
    "llm = ChatMistralAI(model=\"mistral-large-latest\")\n",
    "chain = (\n",
    "    {\"context\": retriever | format_docs, \"question\": RunnablePassthrough()}\n",
    "    | prompt\n",
    "    | llm\n",
    "    | StrOutputParser()\n",
    ")"
   ]
  },
  {
   "cell_type": "code",
   "execution_count": 219,
   "metadata": {},
   "outputs": [
    {
     "name": "stdout",
     "output_type": "stream",
     "text": [
      "وصف رسول الله صلّى الله عليه وسلّم حمزة بن عبد المطلب بأنه خير أعمامه لقوله: «خَيْرُ إِخْوَتِي عَلِيٌّ، وَخَيْرُ أَعْمَامِي حَمْزَةُ رَضِيَ اللَّهُ عَنْهُمَا».\n"
     ]
    }
   ],
   "source": [
    "query = ' بما وصف رسول الله حمزه بن عبد المطلب؟'\n",
    "print(chain.invoke(query))"
   ]
  },
  {
   "cell_type": "code",
   "execution_count": 190,
   "metadata": {},
   "outputs": [
    {
     "name": "stdout",
     "output_type": "stream",
     "text": [
      "حمزة بن عبد المطلب هو صحابي من صحابة رسول الإسلام محمد، وعمُّه وأخوه من الرضاعة وأحد وزرائه الأربعة عشر. تربى حمزة في كنف والده عبد المطلب بن هاشم الذي كان سيد قريش وبني هاشم، ونشأ مع تِربه وابن أخيه عبد الله وأخيه من الرضاعة محمد بن عبد الله بن عبد المطلب. وعاشا ينهلان من الشمائل والقيم العربية الأصيلة، من بطولة وشجاعة وكرم ونجدة وغيرها، وارتبطت بينهما صداقة متينة ووثيقة العُرا. يُعتبر خير أعمام رسول الله صلى الله عليه وسلم لقوله: «خَيْرُ إِخْوَتِي عَلِيٌّ، وَخَيْرُ أَعْمَامِي حَمْزَةُ رَضِيَ اللَّهُ عَنْهُمَا».\n"
     ]
    }
   ],
   "source": [
    "query = \"من هو حمزة بن عبد المطلب؟\"\n",
    "print(chain.invoke(query))"
   ]
  },
  {
   "cell_type": "code",
   "execution_count": 235,
   "metadata": {},
   "outputs": [
    {
     "ename": "HTTPStatusError",
     "evalue": "Error response 429 while fetching https://api.mistral.ai/v1/chat/completions: {\"message\":\"Requests rate limit exceeded\"}",
     "output_type": "error",
     "traceback": [
      "\u001b[1;31m---------------------------------------------------------------------------\u001b[0m",
      "\u001b[1;31mHTTPStatusError\u001b[0m                           Traceback (most recent call last)",
      "Cell \u001b[1;32mIn[235], line 12\u001b[0m\n\u001b[0;32m     10\u001b[0m \u001b[38;5;28;01mfor\u001b[39;00m qus \u001b[38;5;129;01min\u001b[39;00m questions:\n\u001b[0;32m     11\u001b[0m     query\u001b[38;5;241m=\u001b[39m\u001b[38;5;28mstr\u001b[39m(qus)\n\u001b[1;32m---> 12\u001b[0m     response \u001b[38;5;241m=\u001b[39m \u001b[43mchain\u001b[49m\u001b[38;5;241;43m.\u001b[39;49m\u001b[43minvoke\u001b[49m\u001b[43m(\u001b[49m\u001b[43mquery\u001b[49m\u001b[43m)\u001b[49m  \u001b[38;5;66;03m# Using invoke() method for the chain\u001b[39;00m\n\u001b[0;32m     13\u001b[0m     answers\u001b[38;5;241m.\u001b[39mappend(response)\n",
      "File \u001b[1;32mc:\\Users\\Osama\\anaconda3\\envs\\GPU\\lib\\site-packages\\langchain_core\\runnables\\base.py:2495\u001b[0m, in \u001b[0;36mRunnableSequence.invoke\u001b[1;34m(self, input, config, **kwargs)\u001b[0m\n\u001b[0;32m   2493\u001b[0m             \u001b[38;5;28minput\u001b[39m \u001b[38;5;241m=\u001b[39m step\u001b[38;5;241m.\u001b[39minvoke(\u001b[38;5;28minput\u001b[39m, config, \u001b[38;5;241m*\u001b[39m\u001b[38;5;241m*\u001b[39mkwargs)\n\u001b[0;32m   2494\u001b[0m         \u001b[38;5;28;01melse\u001b[39;00m:\n\u001b[1;32m-> 2495\u001b[0m             \u001b[38;5;28minput\u001b[39m \u001b[38;5;241m=\u001b[39m \u001b[43mstep\u001b[49m\u001b[38;5;241;43m.\u001b[39;49m\u001b[43minvoke\u001b[49m\u001b[43m(\u001b[49m\u001b[38;5;28;43minput\u001b[39;49m\u001b[43m,\u001b[49m\u001b[43m \u001b[49m\u001b[43mconfig\u001b[49m\u001b[43m)\u001b[49m\n\u001b[0;32m   2496\u001b[0m \u001b[38;5;66;03m# finish the root run\u001b[39;00m\n\u001b[0;32m   2497\u001b[0m \u001b[38;5;28;01mexcept\u001b[39;00m \u001b[38;5;167;01mBaseException\u001b[39;00m \u001b[38;5;28;01mas\u001b[39;00m e:\n",
      "File \u001b[1;32mc:\\Users\\Osama\\anaconda3\\envs\\GPU\\lib\\site-packages\\langchain_core\\language_models\\chat_models.py:170\u001b[0m, in \u001b[0;36mBaseChatModel.invoke\u001b[1;34m(self, input, config, stop, **kwargs)\u001b[0m\n\u001b[0;32m    159\u001b[0m \u001b[38;5;28;01mdef\u001b[39;00m \u001b[38;5;21minvoke\u001b[39m(\n\u001b[0;32m    160\u001b[0m     \u001b[38;5;28mself\u001b[39m,\n\u001b[0;32m    161\u001b[0m     \u001b[38;5;28minput\u001b[39m: LanguageModelInput,\n\u001b[1;32m   (...)\u001b[0m\n\u001b[0;32m    165\u001b[0m     \u001b[38;5;241m*\u001b[39m\u001b[38;5;241m*\u001b[39mkwargs: Any,\n\u001b[0;32m    166\u001b[0m ) \u001b[38;5;241m-\u001b[39m\u001b[38;5;241m>\u001b[39m BaseMessage:\n\u001b[0;32m    167\u001b[0m     config \u001b[38;5;241m=\u001b[39m ensure_config(config)\n\u001b[0;32m    168\u001b[0m     \u001b[38;5;28;01mreturn\u001b[39;00m cast(\n\u001b[0;32m    169\u001b[0m         ChatGeneration,\n\u001b[1;32m--> 170\u001b[0m         \u001b[38;5;28;43mself\u001b[39;49m\u001b[38;5;241;43m.\u001b[39;49m\u001b[43mgenerate_prompt\u001b[49m\u001b[43m(\u001b[49m\n\u001b[0;32m    171\u001b[0m \u001b[43m            \u001b[49m\u001b[43m[\u001b[49m\u001b[38;5;28;43mself\u001b[39;49m\u001b[38;5;241;43m.\u001b[39;49m\u001b[43m_convert_input\u001b[49m\u001b[43m(\u001b[49m\u001b[38;5;28;43minput\u001b[39;49m\u001b[43m)\u001b[49m\u001b[43m]\u001b[49m\u001b[43m,\u001b[49m\n\u001b[0;32m    172\u001b[0m \u001b[43m            \u001b[49m\u001b[43mstop\u001b[49m\u001b[38;5;241;43m=\u001b[39;49m\u001b[43mstop\u001b[49m\u001b[43m,\u001b[49m\n\u001b[0;32m    173\u001b[0m \u001b[43m            \u001b[49m\u001b[43mcallbacks\u001b[49m\u001b[38;5;241;43m=\u001b[39;49m\u001b[43mconfig\u001b[49m\u001b[38;5;241;43m.\u001b[39;49m\u001b[43mget\u001b[49m\u001b[43m(\u001b[49m\u001b[38;5;124;43m\"\u001b[39;49m\u001b[38;5;124;43mcallbacks\u001b[39;49m\u001b[38;5;124;43m\"\u001b[39;49m\u001b[43m)\u001b[49m\u001b[43m,\u001b[49m\n\u001b[0;32m    174\u001b[0m \u001b[43m            \u001b[49m\u001b[43mtags\u001b[49m\u001b[38;5;241;43m=\u001b[39;49m\u001b[43mconfig\u001b[49m\u001b[38;5;241;43m.\u001b[39;49m\u001b[43mget\u001b[49m\u001b[43m(\u001b[49m\u001b[38;5;124;43m\"\u001b[39;49m\u001b[38;5;124;43mtags\u001b[39;49m\u001b[38;5;124;43m\"\u001b[39;49m\u001b[43m)\u001b[49m\u001b[43m,\u001b[49m\n\u001b[0;32m    175\u001b[0m \u001b[43m            \u001b[49m\u001b[43mmetadata\u001b[49m\u001b[38;5;241;43m=\u001b[39;49m\u001b[43mconfig\u001b[49m\u001b[38;5;241;43m.\u001b[39;49m\u001b[43mget\u001b[49m\u001b[43m(\u001b[49m\u001b[38;5;124;43m\"\u001b[39;49m\u001b[38;5;124;43mmetadata\u001b[39;49m\u001b[38;5;124;43m\"\u001b[39;49m\u001b[43m)\u001b[49m\u001b[43m,\u001b[49m\n\u001b[0;32m    176\u001b[0m \u001b[43m            \u001b[49m\u001b[43mrun_name\u001b[49m\u001b[38;5;241;43m=\u001b[39;49m\u001b[43mconfig\u001b[49m\u001b[38;5;241;43m.\u001b[39;49m\u001b[43mget\u001b[49m\u001b[43m(\u001b[49m\u001b[38;5;124;43m\"\u001b[39;49m\u001b[38;5;124;43mrun_name\u001b[39;49m\u001b[38;5;124;43m\"\u001b[39;49m\u001b[43m)\u001b[49m\u001b[43m,\u001b[49m\n\u001b[0;32m    177\u001b[0m \u001b[43m            \u001b[49m\u001b[43mrun_id\u001b[49m\u001b[38;5;241;43m=\u001b[39;49m\u001b[43mconfig\u001b[49m\u001b[38;5;241;43m.\u001b[39;49m\u001b[43mpop\u001b[49m\u001b[43m(\u001b[49m\u001b[38;5;124;43m\"\u001b[39;49m\u001b[38;5;124;43mrun_id\u001b[39;49m\u001b[38;5;124;43m\"\u001b[39;49m\u001b[43m,\u001b[49m\u001b[43m \u001b[49m\u001b[38;5;28;43;01mNone\u001b[39;49;00m\u001b[43m)\u001b[49m\u001b[43m,\u001b[49m\n\u001b[0;32m    178\u001b[0m \u001b[43m            \u001b[49m\u001b[38;5;241;43m*\u001b[39;49m\u001b[38;5;241;43m*\u001b[39;49m\u001b[43mkwargs\u001b[49m\u001b[43m,\u001b[49m\n\u001b[0;32m    179\u001b[0m \u001b[43m        \u001b[49m\u001b[43m)\u001b[49m\u001b[38;5;241m.\u001b[39mgenerations[\u001b[38;5;241m0\u001b[39m][\u001b[38;5;241m0\u001b[39m],\n\u001b[0;32m    180\u001b[0m     )\u001b[38;5;241m.\u001b[39mmessage\n",
      "File \u001b[1;32mc:\\Users\\Osama\\anaconda3\\envs\\GPU\\lib\\site-packages\\langchain_core\\language_models\\chat_models.py:599\u001b[0m, in \u001b[0;36mBaseChatModel.generate_prompt\u001b[1;34m(self, prompts, stop, callbacks, **kwargs)\u001b[0m\n\u001b[0;32m    591\u001b[0m \u001b[38;5;28;01mdef\u001b[39;00m \u001b[38;5;21mgenerate_prompt\u001b[39m(\n\u001b[0;32m    592\u001b[0m     \u001b[38;5;28mself\u001b[39m,\n\u001b[0;32m    593\u001b[0m     prompts: List[PromptValue],\n\u001b[1;32m   (...)\u001b[0m\n\u001b[0;32m    596\u001b[0m     \u001b[38;5;241m*\u001b[39m\u001b[38;5;241m*\u001b[39mkwargs: Any,\n\u001b[0;32m    597\u001b[0m ) \u001b[38;5;241m-\u001b[39m\u001b[38;5;241m>\u001b[39m LLMResult:\n\u001b[0;32m    598\u001b[0m     prompt_messages \u001b[38;5;241m=\u001b[39m [p\u001b[38;5;241m.\u001b[39mto_messages() \u001b[38;5;28;01mfor\u001b[39;00m p \u001b[38;5;129;01min\u001b[39;00m prompts]\n\u001b[1;32m--> 599\u001b[0m     \u001b[38;5;28;01mreturn\u001b[39;00m \u001b[38;5;28;43mself\u001b[39;49m\u001b[38;5;241;43m.\u001b[39;49m\u001b[43mgenerate\u001b[49m\u001b[43m(\u001b[49m\u001b[43mprompt_messages\u001b[49m\u001b[43m,\u001b[49m\u001b[43m \u001b[49m\u001b[43mstop\u001b[49m\u001b[38;5;241;43m=\u001b[39;49m\u001b[43mstop\u001b[49m\u001b[43m,\u001b[49m\u001b[43m \u001b[49m\u001b[43mcallbacks\u001b[49m\u001b[38;5;241;43m=\u001b[39;49m\u001b[43mcallbacks\u001b[49m\u001b[43m,\u001b[49m\u001b[43m \u001b[49m\u001b[38;5;241;43m*\u001b[39;49m\u001b[38;5;241;43m*\u001b[39;49m\u001b[43mkwargs\u001b[49m\u001b[43m)\u001b[49m\n",
      "File \u001b[1;32mc:\\Users\\Osama\\anaconda3\\envs\\GPU\\lib\\site-packages\\langchain_core\\language_models\\chat_models.py:456\u001b[0m, in \u001b[0;36mBaseChatModel.generate\u001b[1;34m(self, messages, stop, callbacks, tags, metadata, run_name, run_id, **kwargs)\u001b[0m\n\u001b[0;32m    454\u001b[0m         \u001b[38;5;28;01mif\u001b[39;00m run_managers:\n\u001b[0;32m    455\u001b[0m             run_managers[i]\u001b[38;5;241m.\u001b[39mon_llm_error(e, response\u001b[38;5;241m=\u001b[39mLLMResult(generations\u001b[38;5;241m=\u001b[39m[]))\n\u001b[1;32m--> 456\u001b[0m         \u001b[38;5;28;01mraise\u001b[39;00m e\n\u001b[0;32m    457\u001b[0m flattened_outputs \u001b[38;5;241m=\u001b[39m [\n\u001b[0;32m    458\u001b[0m     LLMResult(generations\u001b[38;5;241m=\u001b[39m[res\u001b[38;5;241m.\u001b[39mgenerations], llm_output\u001b[38;5;241m=\u001b[39mres\u001b[38;5;241m.\u001b[39mllm_output)  \u001b[38;5;66;03m# type: ignore[list-item]\u001b[39;00m\n\u001b[0;32m    459\u001b[0m     \u001b[38;5;28;01mfor\u001b[39;00m res \u001b[38;5;129;01min\u001b[39;00m results\n\u001b[0;32m    460\u001b[0m ]\n\u001b[0;32m    461\u001b[0m llm_output \u001b[38;5;241m=\u001b[39m \u001b[38;5;28mself\u001b[39m\u001b[38;5;241m.\u001b[39m_combine_llm_outputs([res\u001b[38;5;241m.\u001b[39mllm_output \u001b[38;5;28;01mfor\u001b[39;00m res \u001b[38;5;129;01min\u001b[39;00m results])\n",
      "File \u001b[1;32mc:\\Users\\Osama\\anaconda3\\envs\\GPU\\lib\\site-packages\\langchain_core\\language_models\\chat_models.py:446\u001b[0m, in \u001b[0;36mBaseChatModel.generate\u001b[1;34m(self, messages, stop, callbacks, tags, metadata, run_name, run_id, **kwargs)\u001b[0m\n\u001b[0;32m    443\u001b[0m \u001b[38;5;28;01mfor\u001b[39;00m i, m \u001b[38;5;129;01min\u001b[39;00m \u001b[38;5;28menumerate\u001b[39m(messages):\n\u001b[0;32m    444\u001b[0m     \u001b[38;5;28;01mtry\u001b[39;00m:\n\u001b[0;32m    445\u001b[0m         results\u001b[38;5;241m.\u001b[39mappend(\n\u001b[1;32m--> 446\u001b[0m             \u001b[38;5;28;43mself\u001b[39;49m\u001b[38;5;241;43m.\u001b[39;49m\u001b[43m_generate_with_cache\u001b[49m\u001b[43m(\u001b[49m\n\u001b[0;32m    447\u001b[0m \u001b[43m                \u001b[49m\u001b[43mm\u001b[49m\u001b[43m,\u001b[49m\n\u001b[0;32m    448\u001b[0m \u001b[43m                \u001b[49m\u001b[43mstop\u001b[49m\u001b[38;5;241;43m=\u001b[39;49m\u001b[43mstop\u001b[49m\u001b[43m,\u001b[49m\n\u001b[0;32m    449\u001b[0m \u001b[43m                \u001b[49m\u001b[43mrun_manager\u001b[49m\u001b[38;5;241;43m=\u001b[39;49m\u001b[43mrun_managers\u001b[49m\u001b[43m[\u001b[49m\u001b[43mi\u001b[49m\u001b[43m]\u001b[49m\u001b[43m \u001b[49m\u001b[38;5;28;43;01mif\u001b[39;49;00m\u001b[43m \u001b[49m\u001b[43mrun_managers\u001b[49m\u001b[43m \u001b[49m\u001b[38;5;28;43;01melse\u001b[39;49;00m\u001b[43m \u001b[49m\u001b[38;5;28;43;01mNone\u001b[39;49;00m\u001b[43m,\u001b[49m\n\u001b[0;32m    450\u001b[0m \u001b[43m                \u001b[49m\u001b[38;5;241;43m*\u001b[39;49m\u001b[38;5;241;43m*\u001b[39;49m\u001b[43mkwargs\u001b[49m\u001b[43m,\u001b[49m\n\u001b[0;32m    451\u001b[0m \u001b[43m            \u001b[49m\u001b[43m)\u001b[49m\n\u001b[0;32m    452\u001b[0m         )\n\u001b[0;32m    453\u001b[0m     \u001b[38;5;28;01mexcept\u001b[39;00m \u001b[38;5;167;01mBaseException\u001b[39;00m \u001b[38;5;28;01mas\u001b[39;00m e:\n\u001b[0;32m    454\u001b[0m         \u001b[38;5;28;01mif\u001b[39;00m run_managers:\n",
      "File \u001b[1;32mc:\\Users\\Osama\\anaconda3\\envs\\GPU\\lib\\site-packages\\langchain_core\\language_models\\chat_models.py:671\u001b[0m, in \u001b[0;36mBaseChatModel._generate_with_cache\u001b[1;34m(self, messages, stop, run_manager, **kwargs)\u001b[0m\n\u001b[0;32m    669\u001b[0m \u001b[38;5;28;01melse\u001b[39;00m:\n\u001b[0;32m    670\u001b[0m     \u001b[38;5;28;01mif\u001b[39;00m inspect\u001b[38;5;241m.\u001b[39msignature(\u001b[38;5;28mself\u001b[39m\u001b[38;5;241m.\u001b[39m_generate)\u001b[38;5;241m.\u001b[39mparameters\u001b[38;5;241m.\u001b[39mget(\u001b[38;5;124m\"\u001b[39m\u001b[38;5;124mrun_manager\u001b[39m\u001b[38;5;124m\"\u001b[39m):\n\u001b[1;32m--> 671\u001b[0m         result \u001b[38;5;241m=\u001b[39m \u001b[38;5;28;43mself\u001b[39;49m\u001b[38;5;241;43m.\u001b[39;49m\u001b[43m_generate\u001b[49m\u001b[43m(\u001b[49m\n\u001b[0;32m    672\u001b[0m \u001b[43m            \u001b[49m\u001b[43mmessages\u001b[49m\u001b[43m,\u001b[49m\u001b[43m \u001b[49m\u001b[43mstop\u001b[49m\u001b[38;5;241;43m=\u001b[39;49m\u001b[43mstop\u001b[49m\u001b[43m,\u001b[49m\u001b[43m \u001b[49m\u001b[43mrun_manager\u001b[49m\u001b[38;5;241;43m=\u001b[39;49m\u001b[43mrun_manager\u001b[49m\u001b[43m,\u001b[49m\u001b[43m \u001b[49m\u001b[38;5;241;43m*\u001b[39;49m\u001b[38;5;241;43m*\u001b[39;49m\u001b[43mkwargs\u001b[49m\n\u001b[0;32m    673\u001b[0m \u001b[43m        \u001b[49m\u001b[43m)\u001b[49m\n\u001b[0;32m    674\u001b[0m     \u001b[38;5;28;01melse\u001b[39;00m:\n\u001b[0;32m    675\u001b[0m         result \u001b[38;5;241m=\u001b[39m \u001b[38;5;28mself\u001b[39m\u001b[38;5;241m.\u001b[39m_generate(messages, stop\u001b[38;5;241m=\u001b[39mstop, \u001b[38;5;241m*\u001b[39m\u001b[38;5;241m*\u001b[39mkwargs)\n",
      "File \u001b[1;32mc:\\Users\\Osama\\anaconda3\\envs\\GPU\\lib\\site-packages\\langchain_mistralai\\chat_models.py:480\u001b[0m, in \u001b[0;36mChatMistralAI._generate\u001b[1;34m(self, messages, stop, run_manager, stream, **kwargs)\u001b[0m\n\u001b[0;32m    478\u001b[0m message_dicts, params \u001b[38;5;241m=\u001b[39m \u001b[38;5;28mself\u001b[39m\u001b[38;5;241m.\u001b[39m_create_message_dicts(messages, stop)\n\u001b[0;32m    479\u001b[0m params \u001b[38;5;241m=\u001b[39m {\u001b[38;5;241m*\u001b[39m\u001b[38;5;241m*\u001b[39mparams, \u001b[38;5;241m*\u001b[39m\u001b[38;5;241m*\u001b[39mkwargs}\n\u001b[1;32m--> 480\u001b[0m response \u001b[38;5;241m=\u001b[39m \u001b[38;5;28;43mself\u001b[39;49m\u001b[38;5;241;43m.\u001b[39;49m\u001b[43mcompletion_with_retry\u001b[49m\u001b[43m(\u001b[49m\n\u001b[0;32m    481\u001b[0m \u001b[43m    \u001b[49m\u001b[43mmessages\u001b[49m\u001b[38;5;241;43m=\u001b[39;49m\u001b[43mmessage_dicts\u001b[49m\u001b[43m,\u001b[49m\u001b[43m \u001b[49m\u001b[43mrun_manager\u001b[49m\u001b[38;5;241;43m=\u001b[39;49m\u001b[43mrun_manager\u001b[49m\u001b[43m,\u001b[49m\u001b[43m \u001b[49m\u001b[38;5;241;43m*\u001b[39;49m\u001b[38;5;241;43m*\u001b[39;49m\u001b[43mparams\u001b[49m\n\u001b[0;32m    482\u001b[0m \u001b[43m\u001b[49m\u001b[43m)\u001b[49m\n\u001b[0;32m    483\u001b[0m \u001b[38;5;28;01mreturn\u001b[39;00m \u001b[38;5;28mself\u001b[39m\u001b[38;5;241m.\u001b[39m_create_chat_result(response)\n",
      "File \u001b[1;32mc:\\Users\\Osama\\anaconda3\\envs\\GPU\\lib\\site-packages\\langchain_mistralai\\chat_models.py:403\u001b[0m, in \u001b[0;36mChatMistralAI.completion_with_retry\u001b[1;34m(self, run_manager, **kwargs)\u001b[0m\n\u001b[0;32m    400\u001b[0m         _raise_on_error(response)\n\u001b[0;32m    401\u001b[0m         \u001b[38;5;28;01mreturn\u001b[39;00m response\u001b[38;5;241m.\u001b[39mjson()\n\u001b[1;32m--> 403\u001b[0m rtn \u001b[38;5;241m=\u001b[39m \u001b[43m_completion_with_retry\u001b[49m\u001b[43m(\u001b[49m\u001b[38;5;241;43m*\u001b[39;49m\u001b[38;5;241;43m*\u001b[39;49m\u001b[43mkwargs\u001b[49m\u001b[43m)\u001b[49m\n\u001b[0;32m    404\u001b[0m \u001b[38;5;28;01mreturn\u001b[39;00m rtn\n",
      "File \u001b[1;32mc:\\Users\\Osama\\anaconda3\\envs\\GPU\\lib\\site-packages\\langchain_mistralai\\chat_models.py:400\u001b[0m, in \u001b[0;36mChatMistralAI.completion_with_retry.<locals>._completion_with_retry\u001b[1;34m(**kwargs)\u001b[0m\n\u001b[0;32m    398\u001b[0m \u001b[38;5;28;01melse\u001b[39;00m:\n\u001b[0;32m    399\u001b[0m     response \u001b[38;5;241m=\u001b[39m \u001b[38;5;28mself\u001b[39m\u001b[38;5;241m.\u001b[39mclient\u001b[38;5;241m.\u001b[39mpost(url\u001b[38;5;241m=\u001b[39m\u001b[38;5;124m\"\u001b[39m\u001b[38;5;124m/chat/completions\u001b[39m\u001b[38;5;124m\"\u001b[39m, json\u001b[38;5;241m=\u001b[39mkwargs)\n\u001b[1;32m--> 400\u001b[0m     \u001b[43m_raise_on_error\u001b[49m\u001b[43m(\u001b[49m\u001b[43mresponse\u001b[49m\u001b[43m)\u001b[49m\n\u001b[0;32m    401\u001b[0m     \u001b[38;5;28;01mreturn\u001b[39;00m response\u001b[38;5;241m.\u001b[39mjson()\n",
      "File \u001b[1;32mc:\\Users\\Osama\\anaconda3\\envs\\GPU\\lib\\site-packages\\langchain_mistralai\\chat_models.py:131\u001b[0m, in \u001b[0;36m_raise_on_error\u001b[1;34m(response)\u001b[0m\n\u001b[0;32m    129\u001b[0m \u001b[38;5;28;01mif\u001b[39;00m httpx\u001b[38;5;241m.\u001b[39mcodes\u001b[38;5;241m.\u001b[39mis_error(response\u001b[38;5;241m.\u001b[39mstatus_code):\n\u001b[0;32m    130\u001b[0m     error_message \u001b[38;5;241m=\u001b[39m response\u001b[38;5;241m.\u001b[39mread()\u001b[38;5;241m.\u001b[39mdecode(\u001b[38;5;124m\"\u001b[39m\u001b[38;5;124mutf-8\u001b[39m\u001b[38;5;124m\"\u001b[39m)\n\u001b[1;32m--> 131\u001b[0m     \u001b[38;5;28;01mraise\u001b[39;00m httpx\u001b[38;5;241m.\u001b[39mHTTPStatusError(\n\u001b[0;32m    132\u001b[0m         \u001b[38;5;124mf\u001b[39m\u001b[38;5;124m\"\u001b[39m\u001b[38;5;124mError response \u001b[39m\u001b[38;5;132;01m{\u001b[39;00mresponse\u001b[38;5;241m.\u001b[39mstatus_code\u001b[38;5;132;01m}\u001b[39;00m\u001b[38;5;124m \u001b[39m\u001b[38;5;124m\"\u001b[39m\n\u001b[0;32m    133\u001b[0m         \u001b[38;5;124mf\u001b[39m\u001b[38;5;124m\"\u001b[39m\u001b[38;5;124mwhile fetching \u001b[39m\u001b[38;5;132;01m{\u001b[39;00mresponse\u001b[38;5;241m.\u001b[39murl\u001b[38;5;132;01m}\u001b[39;00m\u001b[38;5;124m: \u001b[39m\u001b[38;5;132;01m{\u001b[39;00merror_message\u001b[38;5;132;01m}\u001b[39;00m\u001b[38;5;124m\"\u001b[39m,\n\u001b[0;32m    134\u001b[0m         request\u001b[38;5;241m=\u001b[39mresponse\u001b[38;5;241m.\u001b[39mrequest,\n\u001b[0;32m    135\u001b[0m         response\u001b[38;5;241m=\u001b[39mresponse,\n\u001b[0;32m    136\u001b[0m     )\n",
      "\u001b[1;31mHTTPStatusError\u001b[0m: Error response 429 while fetching https://api.mistral.ai/v1/chat/completions: {\"message\":\"Requests rate limit exceeded\"}"
     ]
    }
   ],
   "source": [
    "from datasets import Dataset \n",
    "import os\n",
    "#from ragas import evaluate\n",
    "#from ragas.metrics import faithfulness, answer_correctness, answer_similarity, context_entity_recall, context_recall, context_precision, answer_relevancy\n",
    "#from ragas.metrics.critique import harmfulness\n",
    "\n",
    "questions = df['question'][:20].tolist()\n",
    "from datasets import Dataset\n",
    "answers=[]\n",
    "for qus in questions:\n",
    "    query=str(qus)\n",
    "    response = chain.invoke(query)  # Using invoke() method for the chain\n",
    "    answers.append(response)\n"
   ]
  },
  {
   "cell_type": "code",
   "execution_count": null,
   "metadata": {},
   "outputs": [
    {
     "data": {
      "text/html": [
       "<div>\n",
       "<style scoped>\n",
       "    .dataframe tbody tr th:only-of-type {\n",
       "        vertical-align: middle;\n",
       "    }\n",
       "\n",
       "    .dataframe tbody tr th {\n",
       "        vertical-align: top;\n",
       "    }\n",
       "\n",
       "    .dataframe thead th {\n",
       "        text-align: right;\n",
       "    }\n",
       "</style>\n",
       "<table border=\"1\" class=\"dataframe\">\n",
       "  <thead>\n",
       "    <tr style=\"text-align: right;\">\n",
       "      <th></th>\n",
       "      <th>id</th>\n",
       "      <th>title</th>\n",
       "      <th>context</th>\n",
       "      <th>question</th>\n",
       "      <th>answers</th>\n",
       "    </tr>\n",
       "  </thead>\n",
       "  <tbody>\n",
       "    <tr>\n",
       "      <th>0</th>\n",
       "      <td>621723207492</td>\n",
       "      <td>حمزة بن عبد المطلب</td>\n",
       "      <td>حمزة بن عبد المطلب الهاشمي القرشي صحابي من صحا...</td>\n",
       "      <td>من هو حمزة بن عبد المطلب؟</td>\n",
       "      <td>{'text': array(['صحابي من صحابة رسول الإسلام م...</td>\n",
       "    </tr>\n",
       "    <tr>\n",
       "      <th>1</th>\n",
       "      <td>189105393656</td>\n",
       "      <td>حمزة بن عبد المطلب</td>\n",
       "      <td>حمزة بن عبد المطلب الهاشمي القرشي صحابي من صحا...</td>\n",
       "      <td>بما وصفه رسول الله؟</td>\n",
       "      <td>{'text': array(['وَخَيْرُ أَعْمَامِي'], dtype=...</td>\n",
       "    </tr>\n",
       "    <tr>\n",
       "      <th>2</th>\n",
       "      <td>662616978980</td>\n",
       "      <td>حمزة بن عبد المطلب</td>\n",
       "      <td>حمزة بن عبد المطلب الهاشمي القرشي صحابي من صحا...</td>\n",
       "      <td>بما وصف رسول الله على ؟</td>\n",
       "      <td>{'text': array(['«خَيْرُ إِخْوَتِي عَلِيٌّ،'],...</td>\n",
       "    </tr>\n",
       "    <tr>\n",
       "      <th>3</th>\n",
       "      <td>50146585922</td>\n",
       "      <td>حمزة بن عبد المطلب</td>\n",
       "      <td>أسلم حمزة في السنة الثانية من بعثة النبي محمد،...</td>\n",
       "      <td>متى اسلم حمزة؟</td>\n",
       "      <td>{'text': array(['في السنة الثانية من بعثة النب...</td>\n",
       "    </tr>\n",
       "    <tr>\n",
       "      <th>4</th>\n",
       "      <td>259563807541</td>\n",
       "      <td>حمزة بن عبد المطلب</td>\n",
       "      <td>أسلم حمزة في السنة الثانية من بعثة النبي محمد،...</td>\n",
       "      <td>و ماذا فعل فى غزوة بدر؟</td>\n",
       "      <td>{'text': array(['وقَتَلَ فيها شيبة بن ربيعة مب...</td>\n",
       "    </tr>\n",
       "    <tr>\n",
       "      <th>...</th>\n",
       "      <td>...</td>\n",
       "      <td>...</td>\n",
       "      <td>...</td>\n",
       "      <td>...</td>\n",
       "      <td>...</td>\n",
       "    </tr>\n",
       "    <tr>\n",
       "      <th>697</th>\n",
       "      <td>470812622665</td>\n",
       "      <td>السودان</td>\n",
       "      <td>استقل السودان عن بريطانيا و مصر في الأول من ين...</td>\n",
       "      <td>متى استعلت الحرب الأهلية في السودان؟</td>\n",
       "      <td>{'text': array(['منذ قبيل إعلان الاستقلال'], d...</td>\n",
       "    </tr>\n",
       "    <tr>\n",
       "      <th>698</th>\n",
       "      <td>950438628756</td>\n",
       "      <td>السودان</td>\n",
       "      <td>استقل السودان عن بريطانيا و مصر في الأول من ين...</td>\n",
       "      <td>متى توقفت الحرب الأهلية في السودان؟</td>\n",
       "      <td>{'text': array(['2005'], dtype=object), 'answe...</td>\n",
       "    </tr>\n",
       "    <tr>\n",
       "      <th>699</th>\n",
       "      <td>296368076837</td>\n",
       "      <td>السودان</td>\n",
       "      <td>تكررت الإنقلابات العسكرية في تاريخ السودان الح...</td>\n",
       "      <td>في أي سنة وقع آخر انقلاب عسكري في السودان؟</td>\n",
       "      <td>{'text': array(['عام 1989'], dtype=object), 'a...</td>\n",
       "    </tr>\n",
       "    <tr>\n",
       "      <th>700</th>\n",
       "      <td>349611596646</td>\n",
       "      <td>السودان</td>\n",
       "      <td>تكررت الإنقلابات العسكرية في تاريخ السودان الح...</td>\n",
       "      <td>من قاد الانقلاب العسكري؟</td>\n",
       "      <td>{'text': array(['العميد عمر البشير'], dtype=ob...</td>\n",
       "    </tr>\n",
       "    <tr>\n",
       "      <th>701</th>\n",
       "      <td>212974754962</td>\n",
       "      <td>السودان</td>\n",
       "      <td>تكررت الإنقلابات العسكرية في تاريخ السودان الح...</td>\n",
       "      <td>من كان رئيس الجكومة المدنية وقت الإنقلاب؟</td>\n",
       "      <td>{'text': array(['الصادق المهدي'], dtype=object...</td>\n",
       "    </tr>\n",
       "  </tbody>\n",
       "</table>\n",
       "<p>702 rows × 5 columns</p>\n",
       "</div>"
      ],
      "text/plain": [
       "               id               title  \\\n",
       "0    621723207492  حمزة بن عبد المطلب   \n",
       "1    189105393656  حمزة بن عبد المطلب   \n",
       "2    662616978980  حمزة بن عبد المطلب   \n",
       "3     50146585922  حمزة بن عبد المطلب   \n",
       "4    259563807541  حمزة بن عبد المطلب   \n",
       "..            ...                 ...   \n",
       "697  470812622665             السودان   \n",
       "698  950438628756             السودان   \n",
       "699  296368076837             السودان   \n",
       "700  349611596646             السودان   \n",
       "701  212974754962             السودان   \n",
       "\n",
       "                                               context  \\\n",
       "0    حمزة بن عبد المطلب الهاشمي القرشي صحابي من صحا...   \n",
       "1    حمزة بن عبد المطلب الهاشمي القرشي صحابي من صحا...   \n",
       "2    حمزة بن عبد المطلب الهاشمي القرشي صحابي من صحا...   \n",
       "3    أسلم حمزة في السنة الثانية من بعثة النبي محمد،...   \n",
       "4    أسلم حمزة في السنة الثانية من بعثة النبي محمد،...   \n",
       "..                                                 ...   \n",
       "697  استقل السودان عن بريطانيا و مصر في الأول من ين...   \n",
       "698  استقل السودان عن بريطانيا و مصر في الأول من ين...   \n",
       "699  تكررت الإنقلابات العسكرية في تاريخ السودان الح...   \n",
       "700  تكررت الإنقلابات العسكرية في تاريخ السودان الح...   \n",
       "701  تكررت الإنقلابات العسكرية في تاريخ السودان الح...   \n",
       "\n",
       "                                       question  \\\n",
       "0                     من هو حمزة بن عبد المطلب؟   \n",
       "1                           بما وصفه رسول الله؟   \n",
       "2                       بما وصف رسول الله على ؟   \n",
       "3                                متى اسلم حمزة؟   \n",
       "4                       و ماذا فعل فى غزوة بدر؟   \n",
       "..                                          ...   \n",
       "697        متى استعلت الحرب الأهلية في السودان؟   \n",
       "698         متى توقفت الحرب الأهلية في السودان؟   \n",
       "699  في أي سنة وقع آخر انقلاب عسكري في السودان؟   \n",
       "700                    من قاد الانقلاب العسكري؟   \n",
       "701   من كان رئيس الجكومة المدنية وقت الإنقلاب؟   \n",
       "\n",
       "                                               answers  \n",
       "0    {'text': array(['صحابي من صحابة رسول الإسلام م...  \n",
       "1    {'text': array(['وَخَيْرُ أَعْمَامِي'], dtype=...  \n",
       "2    {'text': array(['«خَيْرُ إِخْوَتِي عَلِيٌّ،'],...  \n",
       "3    {'text': array(['في السنة الثانية من بعثة النب...  \n",
       "4    {'text': array(['وقَتَلَ فيها شيبة بن ربيعة مب...  \n",
       "..                                                 ...  \n",
       "697  {'text': array(['منذ قبيل إعلان الاستقلال'], d...  \n",
       "698  {'text': array(['2005'], dtype=object), 'answe...  \n",
       "699  {'text': array(['عام 1989'], dtype=object), 'a...  \n",
       "700  {'text': array(['العميد عمر البشير'], dtype=ob...  \n",
       "701  {'text': array(['الصادق المهدي'], dtype=object...  \n",
       "\n",
       "[702 rows x 5 columns]"
      ]
     },
     "execution_count": 90,
     "metadata": {},
     "output_type": "execute_result"
    }
   ],
   "source": [
    "df"
   ]
  },
  {
   "cell_type": "code",
   "execution_count": null,
   "metadata": {},
   "outputs": [
    {
     "name": "stdout",
     "output_type": "stream",
     "text": [
      "بما وصفه رسول الله؟\n",
      "حمزة بن عبد المطلب الهاشمي القرشي صحابي من صحابة رسول الإسلام محمد، وعمُّه وأخوه من الرضاعة وأحد وزرائه الأربعة عشر، وهو خير أعمامه لقوله: «خَيْرُ إِخْوَتِي عَلِيٌّ، وَخَيْرُ أَعْمَامِي حَمْزَةُ رَضِيَ اللَّهُ عَنْهُمَا».\n",
      "{'text': array(['وَخَيْرُ أَعْمَامِي'], dtype=object), 'answer_start': array([166], dtype=int32)}\n"
     ]
    }
   ],
   "source": [
    "print(df['question'][1])\n",
    "print(df['context'][1])\n",
    "print(df['answers'][1])"
   ]
  },
  {
   "cell_type": "code",
   "execution_count": 221,
   "metadata": {},
   "outputs": [
    {
     "data": {
      "text/plain": [
       "['حمزة بن عبد المطلب هو صحابي من صحابة رسول الإسلام محمد، وعمُّه وأخوه من الرضاعة وأحد وزرائه الأربعة عشر. تربى في كنف والده عبد المطلب بن هاشم الذي كان سيد قريش وبني هاشم. نشأ مع تِربه وابن أخيه عبد الله وأخيه من الرضاعة محمد بن عبد الله بن عبد المطلب، وعاشا ينهلان من الشمائل والقيم العربية الأصيلة، من بطولة وشجاعة وكرم ونجدة وغيرها. وارتبطت بينهما صداقة متينة ووثيقة العُرا. وهو خير أعمام النبي محمد لقوله: «خَيْرُ إِخْوَتِي عَلِيٌّ، وَخَيْرُ أَعْمَامِي حَمْزَةُ رَضِيَ اللَّهُ عَنْهُمَا».']"
      ]
     },
     "execution_count": 221,
     "metadata": {},
     "output_type": "execute_result"
    }
   ],
   "source": [
    "answers"
   ]
  },
  {
   "cell_type": "code",
   "execution_count": 39,
   "metadata": {},
   "outputs": [
    {
     "data": {
      "text/plain": [
       "'حمزة بن عبد المطلب الهاشمي القرشي صحابي من صحابة رسول الإسلام محمد، وعمُّه وأخوه من الرضاعة وأحد وزرائه الأربعة عشر، وهو خير أعمامه لقوله: «خَيْرُ إِخْوَتِي عَلِيٌّ، وَخَيْرُ أَعْمَامِي حَمْزَةُ رَضِيَ اللَّهُ عَنْهُمَا».'"
      ]
     },
     "execution_count": 39,
     "metadata": {},
     "output_type": "execute_result"
    }
   ],
   "source": [
    "df[\"context\"][i]"
   ]
  },
  {
   "cell_type": "code",
   "execution_count": 79,
   "metadata": {},
   "outputs": [
    {
     "data": {
      "text/html": [
       "<div>\n",
       "<style scoped>\n",
       "    .dataframe tbody tr th:only-of-type {\n",
       "        vertical-align: middle;\n",
       "    }\n",
       "\n",
       "    .dataframe tbody tr th {\n",
       "        vertical-align: top;\n",
       "    }\n",
       "\n",
       "    .dataframe thead th {\n",
       "        text-align: right;\n",
       "    }\n",
       "</style>\n",
       "<table border=\"1\" class=\"dataframe\">\n",
       "  <thead>\n",
       "    <tr style=\"text-align: right;\">\n",
       "      <th></th>\n",
       "      <th>id</th>\n",
       "      <th>title</th>\n",
       "      <th>context</th>\n",
       "      <th>question</th>\n",
       "      <th>answers</th>\n",
       "    </tr>\n",
       "  </thead>\n",
       "  <tbody>\n",
       "    <tr>\n",
       "      <th>0</th>\n",
       "      <td>621723207492</td>\n",
       "      <td>حمزة بن عبد المطلب</td>\n",
       "      <td>حمزة بن عبد المطلب الهاشمي القرشي صحابي من صحا...</td>\n",
       "      <td>من هو حمزة بن عبد المطلب؟</td>\n",
       "      <td>{'text': array(['صحابي من صحابة رسول الإسلام م...</td>\n",
       "    </tr>\n",
       "    <tr>\n",
       "      <th>1</th>\n",
       "      <td>189105393656</td>\n",
       "      <td>حمزة بن عبد المطلب</td>\n",
       "      <td>حمزة بن عبد المطلب الهاشمي القرشي صحابي من صحا...</td>\n",
       "      <td>بما وصفه رسول الله؟</td>\n",
       "      <td>{'text': array(['وَخَيْرُ أَعْمَامِي'], dtype=...</td>\n",
       "    </tr>\n",
       "    <tr>\n",
       "      <th>2</th>\n",
       "      <td>662616978980</td>\n",
       "      <td>حمزة بن عبد المطلب</td>\n",
       "      <td>حمزة بن عبد المطلب الهاشمي القرشي صحابي من صحا...</td>\n",
       "      <td>بما وصف رسول الله على ؟</td>\n",
       "      <td>{'text': array(['«خَيْرُ إِخْوَتِي عَلِيٌّ،'],...</td>\n",
       "    </tr>\n",
       "    <tr>\n",
       "      <th>3</th>\n",
       "      <td>50146585922</td>\n",
       "      <td>حمزة بن عبد المطلب</td>\n",
       "      <td>أسلم حمزة في السنة الثانية من بعثة النبي محمد،...</td>\n",
       "      <td>متى اسلم حمزة؟</td>\n",
       "      <td>{'text': array(['في السنة الثانية من بعثة النب...</td>\n",
       "    </tr>\n",
       "    <tr>\n",
       "      <th>4</th>\n",
       "      <td>259563807541</td>\n",
       "      <td>حمزة بن عبد المطلب</td>\n",
       "      <td>أسلم حمزة في السنة الثانية من بعثة النبي محمد،...</td>\n",
       "      <td>و ماذا فعل فى غزوة بدر؟</td>\n",
       "      <td>{'text': array(['وقَتَلَ فيها شيبة بن ربيعة مب...</td>\n",
       "    </tr>\n",
       "    <tr>\n",
       "      <th>...</th>\n",
       "      <td>...</td>\n",
       "      <td>...</td>\n",
       "      <td>...</td>\n",
       "      <td>...</td>\n",
       "      <td>...</td>\n",
       "    </tr>\n",
       "    <tr>\n",
       "      <th>697</th>\n",
       "      <td>470812622665</td>\n",
       "      <td>السودان</td>\n",
       "      <td>استقل السودان عن بريطانيا و مصر في الأول من ين...</td>\n",
       "      <td>متى استعلت الحرب الأهلية في السودان؟</td>\n",
       "      <td>{'text': array(['منذ قبيل إعلان الاستقلال'], d...</td>\n",
       "    </tr>\n",
       "    <tr>\n",
       "      <th>698</th>\n",
       "      <td>950438628756</td>\n",
       "      <td>السودان</td>\n",
       "      <td>استقل السودان عن بريطانيا و مصر في الأول من ين...</td>\n",
       "      <td>متى توقفت الحرب الأهلية في السودان؟</td>\n",
       "      <td>{'text': array(['2005'], dtype=object), 'answe...</td>\n",
       "    </tr>\n",
       "    <tr>\n",
       "      <th>699</th>\n",
       "      <td>296368076837</td>\n",
       "      <td>السودان</td>\n",
       "      <td>تكررت الإنقلابات العسكرية في تاريخ السودان الح...</td>\n",
       "      <td>في أي سنة وقع آخر انقلاب عسكري في السودان؟</td>\n",
       "      <td>{'text': array(['عام 1989'], dtype=object), 'a...</td>\n",
       "    </tr>\n",
       "    <tr>\n",
       "      <th>700</th>\n",
       "      <td>349611596646</td>\n",
       "      <td>السودان</td>\n",
       "      <td>تكررت الإنقلابات العسكرية في تاريخ السودان الح...</td>\n",
       "      <td>من قاد الانقلاب العسكري؟</td>\n",
       "      <td>{'text': array(['العميد عمر البشير'], dtype=ob...</td>\n",
       "    </tr>\n",
       "    <tr>\n",
       "      <th>701</th>\n",
       "      <td>212974754962</td>\n",
       "      <td>السودان</td>\n",
       "      <td>تكررت الإنقلابات العسكرية في تاريخ السودان الح...</td>\n",
       "      <td>من كان رئيس الجكومة المدنية وقت الإنقلاب؟</td>\n",
       "      <td>{'text': array(['الصادق المهدي'], dtype=object...</td>\n",
       "    </tr>\n",
       "  </tbody>\n",
       "</table>\n",
       "<p>702 rows × 5 columns</p>\n",
       "</div>"
      ],
      "text/plain": [
       "               id               title  \\\n",
       "0    621723207492  حمزة بن عبد المطلب   \n",
       "1    189105393656  حمزة بن عبد المطلب   \n",
       "2    662616978980  حمزة بن عبد المطلب   \n",
       "3     50146585922  حمزة بن عبد المطلب   \n",
       "4    259563807541  حمزة بن عبد المطلب   \n",
       "..            ...                 ...   \n",
       "697  470812622665             السودان   \n",
       "698  950438628756             السودان   \n",
       "699  296368076837             السودان   \n",
       "700  349611596646             السودان   \n",
       "701  212974754962             السودان   \n",
       "\n",
       "                                               context  \\\n",
       "0    حمزة بن عبد المطلب الهاشمي القرشي صحابي من صحا...   \n",
       "1    حمزة بن عبد المطلب الهاشمي القرشي صحابي من صحا...   \n",
       "2    حمزة بن عبد المطلب الهاشمي القرشي صحابي من صحا...   \n",
       "3    أسلم حمزة في السنة الثانية من بعثة النبي محمد،...   \n",
       "4    أسلم حمزة في السنة الثانية من بعثة النبي محمد،...   \n",
       "..                                                 ...   \n",
       "697  استقل السودان عن بريطانيا و مصر في الأول من ين...   \n",
       "698  استقل السودان عن بريطانيا و مصر في الأول من ين...   \n",
       "699  تكررت الإنقلابات العسكرية في تاريخ السودان الح...   \n",
       "700  تكررت الإنقلابات العسكرية في تاريخ السودان الح...   \n",
       "701  تكررت الإنقلابات العسكرية في تاريخ السودان الح...   \n",
       "\n",
       "                                       question  \\\n",
       "0                     من هو حمزة بن عبد المطلب؟   \n",
       "1                           بما وصفه رسول الله؟   \n",
       "2                       بما وصف رسول الله على ؟   \n",
       "3                                متى اسلم حمزة؟   \n",
       "4                       و ماذا فعل فى غزوة بدر؟   \n",
       "..                                          ...   \n",
       "697        متى استعلت الحرب الأهلية في السودان؟   \n",
       "698         متى توقفت الحرب الأهلية في السودان؟   \n",
       "699  في أي سنة وقع آخر انقلاب عسكري في السودان؟   \n",
       "700                    من قاد الانقلاب العسكري؟   \n",
       "701   من كان رئيس الجكومة المدنية وقت الإنقلاب؟   \n",
       "\n",
       "                                               answers  \n",
       "0    {'text': array(['صحابي من صحابة رسول الإسلام م...  \n",
       "1    {'text': array(['وَخَيْرُ أَعْمَامِي'], dtype=...  \n",
       "2    {'text': array(['«خَيْرُ إِخْوَتِي عَلِيٌّ،'],...  \n",
       "3    {'text': array(['في السنة الثانية من بعثة النب...  \n",
       "4    {'text': array(['وقَتَلَ فيها شيبة بن ربيعة مب...  \n",
       "..                                                 ...  \n",
       "697  {'text': array(['منذ قبيل إعلان الاستقلال'], d...  \n",
       "698  {'text': array(['2005'], dtype=object), 'answe...  \n",
       "699  {'text': array(['عام 1989'], dtype=object), 'a...  \n",
       "700  {'text': array(['العميد عمر البشير'], dtype=ob...  \n",
       "701  {'text': array(['الصادق المهدي'], dtype=object...  \n",
       "\n",
       "[702 rows x 5 columns]"
      ]
     },
     "execution_count": 79,
     "metadata": {},
     "output_type": "execute_result"
    }
   ],
   "source": [
    "df"
   ]
  },
  {
   "cell_type": "code",
   "execution_count": 225,
   "metadata": {},
   "outputs": [
    {
     "name": "stdout",
     "output_type": "stream",
     "text": [
      "Prediction: حمزة بن عبد المطلب هو صحابي من صحابة رسول الإسلام محمد، وعمُّه وأخوه من الرضاعة وأحد وزرائه الأربعة عشر. تربى في كنف والده عبد المطلب بن هاشم الذي كان سيد قريش وبني هاشم، ونشأ مع تِربه وابن أخيه عبد الله وأخيه من الرضاعة محمد بن عبد الله بن عبد المطلب، وعاشا ينهلان من الشمائل والقيم العربية الأصيلة، من بطولة وشجاعة وكرم ونجدة وغيرها، وارتبطت بينهما صداقة متينة ووثيقة العُرا. وهو خير أعمام رسول الإسلام محمد لقوله: «خَيْرُ إِخْوَتِي عَلِيٌّ، وَخَيْرُ أَعْمَامِي حَمْزَةُ رَضِيَ اللَّهُ عَنْهُمَا».\n",
      "Exact Match Score: 0.0000\n",
      "F1 Score: 0.2115\n",
      "\n",
      "Prediction: وصف رسول الله حمزة بن عبد المطلب بأنه \"خير أعمامي\" حسب ما يروى في الحديث: «خَيْرُ إِخْوَتِي عَلِيٌّ، وَخَيْرُ أَعْمَامِي حَمْزَةُ رَضِيَ اللَّهُ عَنْهُمَا».\n",
      "Exact Match Score: 0.0000\n",
      "F1 Score: 0.0000\n",
      "\n",
      "Prediction: وصف رسول الله عليه السلام في السيرة النبوية أنه كان نائمًا في الحجر فيزعجه جبريل عليه السلام بهمزته بقدمه، وكان رسول الله يرى دابة بيضاء بين البغل والحمار وفي فخذيها جناحان تحفز بهما رجليه. ولم يذكر النص أي وصف خاص لرسول الله في هذا الحديث.\n",
      "Exact Match Score: 0.0000\n",
      "F1 Score: 0.0000\n",
      "\n",
      "Average Exact Match Score: 0.0000\n",
      "Average F1 Score: 0.0705\n"
     ]
    }
   ],
   "source": [
    "# Assuming `answers` contains the predicted answers and `df` contains the ground truth answers\n",
    "num_samples = min(len(answers), len(df[\"answers\"]))\n",
    "exact_matches = []\n",
    "f1_scores = []\n",
    "\n",
    "for i in range(num_samples):\n",
    "    pred_answer = answers[i]\n",
    "    gt_answer = df[\"answers\"][i]\n",
    "    \n",
    "    # Calculate exact match\n",
    "    exact_match = 1 if pred_answer.strip().lower() == gt_answer.strip().lower() else 0\n",
    "    exact_matches.append(exact_match)\n",
    "    \n",
    "    # Calculate F1 score\n",
    "    pred_tokens = pred_answer.strip().lower().split()\n",
    "    gt_tokens = gt_answer.strip().lower().split()\n",
    "    common_tokens = set(pred_tokens) & set(gt_tokens)\n",
    "    precision = len(common_tokens) / len(pred_tokens) if len(pred_tokens) > 0 else 0\n",
    "    recall = len(common_tokens) / len(gt_tokens) if len(gt_tokens) > 0 else 0\n",
    "    f1 = 2 * (precision * recall) / (precision + recall) if (precision + recall) > 0 else 0\n",
    "    f1_scores.append(f1)\n",
    "\n",
    "    # Print prediction and metrics\n",
    "    print(f\"Prediction: {pred_answer}\")\n",
    "    print(f\"Exact Match Score: {exact_match:.4f}\")\n",
    "    print(f\"F1 Score: {f1:.4f}\")\n",
    "    print()\n",
    "\n",
    "# Calculate average exact match and F1 score\n",
    "avg_exact_match = sum(exact_matches) / num_samples\n",
    "avg_f1_score = sum(f1_scores) / num_samples\n",
    "\n",
    "print(f\"Average Exact Match Score: {avg_exact_match:.4f}\")\n",
    "print(f\"Average F1 Score: {avg_f1_score:.4f}\")\n"
   ]
  },
  {
   "cell_type": "code",
   "execution_count": 71,
   "metadata": {},
   "outputs": [
    {
     "data": {
      "text/plain": [
       "['حمزة بن عبد المطلب هو صحابي من صحابة رسول الإسلام محمد، وعمُّه وأخوه من الرضاعة وأحد وزرائه الأربعة عشر، وهو خير أعمامه لقوله: «خَيْرُ إِخْوَتِي عَلِيٌّ، وَخَيْرُ أَعْمَامِي حَمْزَةُ رَضِيَ اللَّهُ عَنْهُمَا». تربى حمزة بن عبد المطلب في كنف والده عبد المطلب بن هاشم الذي كان سيد قريش وبني هاشم، ونشأ مع تِربه وابن أخيه عبد الله وأخيه من الرضاعة محمد بن عبد الله بن عبد المطلب، وعاشا ينهلان من الشمائل والقيم العربية الأصيلة، من بطولة وشجاعة وكرم ونجدة وغيرها، وارتبطت بينهما صداقة متينة ووثيقة العُرا.',\n",
       " 'وصفه رسول الله بأنها المانعة المنجية تنجيه من عذاب القبر.',\n",
       " 'رسول الله صلّى الله عليه وسلّم وُصف بأنه نائم في الحجر، ثم أتاه جبريل عليه السلام وهمزه بقدمه، فجلس رسولنا الكريم فلم يرَ شيئا، ثم عاد إلى مضجعه، فأتاه مرّةً ثانية فهمزه بقدمه، فجلس ولم يرَ شيئا، ثم عاد مرّةً أخرى إلى مضجعه، فأتاه مرّةً ثالثة فهمزه بقدمه، فجلس رسولنا الكريم، وأخذ جبريل بعضده، وحينها قام رسول الله معه، وخرج به جبريل إلى باب المسجد، فإذا رسول الله يرى دابّةً بيضاء بين البغل والحمار، في فخذيها جناحان تحفّز بهما رجليه، ثم وضع جبريل يده في منتهى طرف الرّسول فحمله عليه، وخرج معه. ومضى رسول الله صلّى الله عليه وسلّم بصحبة جبريل عليه السّلام حتّى انتهى به المطاف إلى بيت المقدس، فوجد فيه الأنبياء إبراهيم وموسى وعيسى في نفرٍ من الأنبياء، فأمّهم رسول الله في صلاته، ثمّ أُتى جبريل رسول الله بوعائين، في أحدهما خمر، وفي الآخر . قال: خذ. فأخذ رسول الله صلّى الله عليه وسلّم إناء اللبن وشرب منه، وترك إناء الخمر. فقال له جبريل: هديتَ للفطرة، وهديت أمّتك يا محمّد، وحرّمت عليكم الخمر. ثمّ عاد رسول الله صلّى الله عليه وسلّم إلى مكّة .',\n",
       " 'أسلم حمزة في السنة الثانية من بعثة النبي محمد.',\n",
       " 'في غزوة بدر، تواجه المسلمون قبيلة قريش ومن حالفها من العرب بقيادة عمرو بن هشام المخزومي القرشي. بدأت المعركة بمحاولة المسلمين اعتراضَ عيرٍ لقريشٍ متوجهةٍ من الشام إلى مكة يقودها أبو سفيان بن حرب، ولكن أبا سفيان تمكن من الفرار بالقافلة، وأرسل رسولاً إلى قريش يطلب عونهم ونجدتهم، فاستجابت قريشٌ وخرجت لقتال المسلمين. كان عددُ المسلمين في غزوة بدر ثلاثمائة وبضعة عشر رجلاً، معهم فَرَسان وسبعون جملاً، وكان تعدادُ جيش قريش ألفَ رجلٍ معهم مئتا فرس، أي كانوا يشكِّلون ثلاثة أضعاف جيش المسلمين من حيث العدد تقريباً. وانتهت غزوة بدر بانتصار المسلمين على قريش وقتل قائدهم عمرو بن هشام، وكان عدد من قُتل من قريش في غزوة بدر سبعين رجلاً وأُسر منهم سبعون آخرون، أما المسلمون فلم يُقتل منهم سوى أربعة عشر رجلاً، ستة منهم من المهاجرين وثمانية من الأنصار. تمخَّضت عن غزوة بدر عدة نتائج نافعةٍ بالنسبة للمسلمين، منها أنهم أصبحوا مهابين في المدينة وما جاورها، وأصبح لدولتهم مصدرٌ جديدٌ للدخل وهو غنائم المعارك، وبذلك تحسّن حالُ المسلمين الماديّ والاقتصاديّ والمعنويّ.',\n",
       " 'وحشي بن حرب الحبشي غلامُ جبير بن مطعم قتل حمزة.',\n",
       " 'عبد المطلب بن هاشم هو سيد قريش وبني هاشم، وأب حمزة بن عبد المطلب الصحابي الذي تربى في كنفه. كان عبد المطلب بن هاشم ينهل مع ابن أخيه عبد الله وأخيه من الرضاعة محمد بن عبد الله بن عبد المطلب من الشمائل والقيم العربية الأصيلة.',\n",
       " 'اخو حمزة فى الرضاعة هو محمد بن عبد الله بن عبد المطلب.',\n",
       " 'حمزة ومحمد بن عبد الله بن عبد المطلب نشأا وعاشا معًا في كنف والدهما عبد المطلب بن هاشم الذي كان سيد قريش وبني هاشم، وارتبطت بينهما صداقة متينة ووثيقة العُرا. كما أن حمزة كان عمُّه وأخوه من الرضاعة وأحد وزرائه الأربعة عشر.',\n",
       " 'القمر هو القمر الطبيعي الوحيد للأرض وخامس أكبر قمرٍ طبيعيٍ في المجموعة الشمسية. يُعَدُ أكبر قمرٍ طبيعيٍ في المجموعة الشمسية من ناحية نسبة حجمه إلى كوكبه التابع له، حيث أن قطره يصل إلى ربع قطر الأرض، كما أن كتلته تصل إلى 1 على 81 من كتلة الأرض. هذا بالإضافة إلى أنه يُعَدُ ثاني أعلى قمرٍ من ناحية الكثافة بعد قمر إيو. كما أنه صاحب أسرع وأقوى لكمة في العالم حيث تعادل قوتها حوالي 1,000 باوند. وهو على الرغم من أن برنامج لونا التابع للإتحاد السوفيتي كان الأول من نوعه لينجح في الوصول إلى سطح القمر بواسطة مركبةٍ فضائيةٍ غير مأهولة برواد الفضاء في عام 1959، إلا أن برنامج أبولو التابع لوكالة ناسا الأمريكية استطاع تحقيق إنجاز السفر بالبعثات البشرية الوحيدة، والتي بدأت بأول بعثةٍ بشريةٍ مداريةٍ حول القمر هي بعثة أبولو 8 في عام 1968، والتي تبعها ستة رحلاتٍ بشريةٍ إلى القمر فيما بين عاميّ 1969 و1972 – والتي كانت الأولى منها هي رحلة أبولو 11 في عام 1969. هذا وقد جلبت تلك الرحلات في طريق عودتها نحو 380 كيلوغراماً من الصخور القمرية، والتي استُخْدِمَت بعد ذلك في تطوير التفهم الجيولوجي المفصل لأصول نشأة القمر (والذي ساد المعتقد أن أصول نشأته وتكوينه ترجع إلى 4.5 مليارات سنة وذلك في إطار فرضية الاصطدام العملاق والتي شملت في إطارها تكون كوكب الأرض)، وكذلك في فهم تكوين البنية الداخلية للقمر، وكذلك جيولوجيا القمر.',\n",
       " 'قطر القمر يبلغ ربع قطر الأرض.',\n",
       " 'تبلغ كتلته حوالي 1,000 باوند.',\n",
       " 'القمر هو القمر الطبيعي الوحيد للأرض وخامس أكبر قمر طبيعي في المجموعة الشمسية. يعتبر أكبر قمر طبيعي في المجموعة الشمسية من ناحية نسبة حجمه إلى كوكبه التابع له، حيث أن قطره يصل إلى ربع قطر الأرض، كما أن كتلته تصل إلى 1 على 81 من كتلة الأرض. يتميز القمر الأرضي بحركته التزامنية مع كوكبه (الأرض)، عارضاً دائماً الوجه نفسه. يُلاحظ أن القمر الأرضي هو أكثر جسم لامع في السماء ليلاً وعموماً هو الجسم الأكثر لمعاناً بعد الشمس. كان بروز القمر في السماء المظلمة ليلاً ودورته المنتظمة الأطوار (المراحل) قد جعل له على مر العصور القديمة تأثيراً ثقافياً هاماً. يسفر تأثير جاذبيته عن وقوع عمليتي مد وجزر المحيطات وإطالة الدقيقة. مع ملاحظة أن المسافة المدارية الحالية للقمر تتسبب في أن يبدو القمر أغلب الوقت بنفس حجمه دون تغيير في السماء.',\n",
       " 'لا يوجد معلومات حول المسافة المدارية للقمر في النص.',\n",
       " 'تتسبب ظهور القمر بنفس حجمه تقريبًا في السماء نتيجة مسافة المدارية الحالية للقمر، التي تُقَدَرُ بثلاثين مرةٍ قدر قطر الكرة الأرضية.',\n",
       " 'برنامج أبولو التابع لوكالة ناسا الأمريكية استطاع تحقيق إنجاز السفر بالبعثات البشرية الوحيدة إلى القمر. وكانت أول بعثة بشرية مدارية حول القمر هي بعثة أبولو 8 في عام 1968، وتبعها ستة رحلات بشرية إلى القمر فيما بين عامي 1969 و1972. وكانت أولى هذه الرحلات هي رحلة أبولو 11 في عام 1969.',\n",
       " 'وصلت أول بعثة بشرية للقمر في عام 1969 مع رحلة أبولو 11.',\n",
       " 'يرجع أصل نشأة وتكوين القمر إلى 4.5 مليارات سنة في إطار فرضية الاصطدام العملاق التي شملت في إطارها تكون كوكب الأرض.',\n",
       " 'مكة المكرمة تقع غرب المملكة العربية السعودية، تبعد عن المدينة المنورة حوالي 400 كيلومتر في الاتجاه الجنوبي الغربي، وعن مدينة الطائف حوالي 120 كيلومترا في الاتجاه الشرقي، وعلى بعد 72 كيلومترا من مدينة جدة وساحل البحر الأحمر.',\n",
       " 'مكة المكرمة تبعد عن المدينة المنورة حوالي 400 كيلومتر في الاتجاه الجنوبي الغربي.']"
      ]
     },
     "execution_count": 71,
     "metadata": {},
     "output_type": "execute_result"
    }
   ],
   "source": [
    "answers"
   ]
  },
  {
   "cell_type": "code",
   "execution_count": 50,
   "metadata": {},
   "outputs": [
    {
     "name": "stdout",
     "output_type": "stream",
     "text": [
      "0\n"
     ]
    },
    {
     "ename": "ValidationError",
     "evalue": "1 validation error for ChatOpenAI\n__root__\n  Did not find openai_api_key, please add an environment variable `OPENAI_API_KEY` which contains it, or pass `openai_api_key` as a named parameter. (type=value_error)",
     "output_type": "error",
     "traceback": [
      "\u001b[1;31m---------------------------------------------------------------------------\u001b[0m",
      "\u001b[1;31mValidationError\u001b[0m                           Traceback (most recent call last)",
      "Cell \u001b[1;32mIn[50], line 11\u001b[0m\n\u001b[0;32m      3\u001b[0m data \u001b[38;5;241m=\u001b[39m {\n\u001b[0;32m      4\u001b[0m     \u001b[38;5;124m\"\u001b[39m\u001b[38;5;124mquestion\u001b[39m\u001b[38;5;124m\"\u001b[39m: [questions[i]],\n\u001b[0;32m      5\u001b[0m     \u001b[38;5;124m\"\u001b[39m\u001b[38;5;124manswer\u001b[39m\u001b[38;5;124m\"\u001b[39m:[answers[i]] ,\n\u001b[0;32m      6\u001b[0m     \u001b[38;5;124m\"\u001b[39m\u001b[38;5;124mcontexts\u001b[39m\u001b[38;5;124m\"\u001b[39m: [[\u001b[38;5;28mstr\u001b[39m(df[\u001b[38;5;124m\"\u001b[39m\u001b[38;5;124mcontext\u001b[39m\u001b[38;5;124m\"\u001b[39m][i])]],\n\u001b[0;32m      7\u001b[0m     \u001b[38;5;124m\"\u001b[39m\u001b[38;5;124mground_truth\u001b[39m\u001b[38;5;124m\"\u001b[39m:[df[\u001b[38;5;124m\"\u001b[39m\u001b[38;5;124manswers\u001b[39m\u001b[38;5;124m\"\u001b[39m][i]]\n\u001b[0;32m      8\u001b[0m }\n\u001b[0;32m     10\u001b[0m dataset \u001b[38;5;241m=\u001b[39m Dataset\u001b[38;5;241m.\u001b[39mfrom_dict(data)\n\u001b[1;32m---> 11\u001b[0m score \u001b[38;5;241m=\u001b[39m \u001b[43mevaluate\u001b[49m\u001b[43m(\u001b[49m\u001b[43mdataset\u001b[49m\u001b[43m,\u001b[49m\u001b[43mmetrics\u001b[49m\u001b[38;5;241;43m=\u001b[39;49m\u001b[43m[\u001b[49m\u001b[43mfaithfulness\u001b[49m\u001b[43m,\u001b[49m\u001b[43m \u001b[49m\u001b[43mharmfulness\u001b[49m\u001b[43m,\u001b[49m\u001b[43m \u001b[49m\u001b[43manswer_relevancy\u001b[49m\u001b[43m,\u001b[49m\u001b[43m \u001b[49m\u001b[43manswer_correctness\u001b[49m\u001b[43m,\u001b[49m\u001b[43m \u001b[49m\u001b[43manswer_similarity\u001b[49m\u001b[43m,\u001b[49m\u001b[43m \u001b[49m\u001b[43mcontext_precision\u001b[49m\u001b[43m,\u001b[49m\u001b[43m \u001b[49m\u001b[43mcontext_recall\u001b[49m\u001b[43m,\u001b[49m\u001b[43m \u001b[49m\u001b[43mcontext_entity_recall\u001b[49m\u001b[43m]\u001b[49m\u001b[43m,\u001b[49m\u001b[43m \u001b[49m\u001b[43mraise_exceptions\u001b[49m\u001b[38;5;241;43m=\u001b[39;49m\u001b[38;5;28;43;01mFalse\u001b[39;49;00m\u001b[43m)\u001b[49m\n\u001b[0;32m     12\u001b[0m \u001b[38;5;28mprint\u001b[39m(score)\n",
      "File \u001b[1;32mc:\\Users\\Osama\\anaconda3\\envs\\GPU\\lib\\site-packages\\ragas\\evaluation.py:179\u001b[0m, in \u001b[0;36mevaluate\u001b[1;34m(dataset, metrics, llm, embeddings, callbacks, in_ci, is_async, run_config, raise_exceptions, column_map)\u001b[0m\n\u001b[0;32m    177\u001b[0m \u001b[38;5;28;01mif\u001b[39;00m \u001b[38;5;28misinstance\u001b[39m(metric, MetricWithLLM) \u001b[38;5;129;01mand\u001b[39;00m metric\u001b[38;5;241m.\u001b[39mllm \u001b[38;5;129;01mis\u001b[39;00m \u001b[38;5;28;01mNone\u001b[39;00m:\n\u001b[0;32m    178\u001b[0m     \u001b[38;5;28;01mif\u001b[39;00m llm \u001b[38;5;129;01mis\u001b[39;00m \u001b[38;5;28;01mNone\u001b[39;00m:\n\u001b[1;32m--> 179\u001b[0m         llm \u001b[38;5;241m=\u001b[39m \u001b[43mllm_factory\u001b[49m\u001b[43m(\u001b[49m\u001b[43m)\u001b[49m\n\u001b[0;32m    180\u001b[0m     metric\u001b[38;5;241m.\u001b[39mllm \u001b[38;5;241m=\u001b[39m llm\n\u001b[0;32m    181\u001b[0m     llm_changed\u001b[38;5;241m.\u001b[39mappend(i)\n",
      "File \u001b[1;32mc:\\Users\\Osama\\anaconda3\\envs\\GPU\\lib\\site-packages\\ragas\\llms\\base.py:285\u001b[0m, in \u001b[0;36mllm_factory\u001b[1;34m(model, run_config)\u001b[0m\n\u001b[0;32m    283\u001b[0m \u001b[38;5;28;01mif\u001b[39;00m run_config \u001b[38;5;129;01mis\u001b[39;00m \u001b[38;5;129;01mnot\u001b[39;00m \u001b[38;5;28;01mNone\u001b[39;00m:\n\u001b[0;32m    284\u001b[0m     timeout \u001b[38;5;241m=\u001b[39m run_config\u001b[38;5;241m.\u001b[39mtimeout\n\u001b[1;32m--> 285\u001b[0m openai_model \u001b[38;5;241m=\u001b[39m \u001b[43mChatOpenAI\u001b[49m\u001b[43m(\u001b[49m\u001b[43mmodel\u001b[49m\u001b[38;5;241;43m=\u001b[39;49m\u001b[43mmodel\u001b[49m\u001b[43m,\u001b[49m\u001b[43m \u001b[49m\u001b[43mtimeout\u001b[49m\u001b[38;5;241;43m=\u001b[39;49m\u001b[43mtimeout\u001b[49m\u001b[43m)\u001b[49m\n\u001b[0;32m    286\u001b[0m \u001b[38;5;28;01mreturn\u001b[39;00m LangchainLLMWrapper(openai_model, run_config)\n",
      "File \u001b[1;32mc:\\Users\\Osama\\anaconda3\\envs\\GPU\\lib\\site-packages\\pydantic\\v1\\main.py:341\u001b[0m, in \u001b[0;36mBaseModel.__init__\u001b[1;34m(__pydantic_self__, **data)\u001b[0m\n\u001b[0;32m    339\u001b[0m values, fields_set, validation_error \u001b[38;5;241m=\u001b[39m validate_model(__pydantic_self__\u001b[38;5;241m.\u001b[39m\u001b[38;5;18m__class__\u001b[39m, data)\n\u001b[0;32m    340\u001b[0m \u001b[38;5;28;01mif\u001b[39;00m validation_error:\n\u001b[1;32m--> 341\u001b[0m     \u001b[38;5;28;01mraise\u001b[39;00m validation_error\n\u001b[0;32m    342\u001b[0m \u001b[38;5;28;01mtry\u001b[39;00m:\n\u001b[0;32m    343\u001b[0m     object_setattr(__pydantic_self__, \u001b[38;5;124m'\u001b[39m\u001b[38;5;124m__dict__\u001b[39m\u001b[38;5;124m'\u001b[39m, values)\n",
      "\u001b[1;31mValidationError\u001b[0m: 1 validation error for ChatOpenAI\n__root__\n  Did not find openai_api_key, please add an environment variable `OPENAI_API_KEY` which contains it, or pass `openai_api_key` as a named parameter. (type=value_error)"
     ]
    }
   ],
   "source": [
    "for i in range(0, len(questions)): \n",
    "    print(i)       \n",
    "    data = {\n",
    "        \"question\": [questions[i]],\n",
    "        \"answer\":[answers[i]] ,\n",
    "        \"contexts\": [[str(df[\"context\"][i])]],\n",
    "        \"ground_truth\":[df[\"answers\"][i]]\n",
    "    }\n",
    "\n",
    "    dataset = Dataset.from_dict(data)\n",
    "    score = evaluate(dataset,metrics=[faithfulness, harmfulness, answer_relevancy, answer_correctness, answer_similarity, context_precision, context_recall, context_entity_recall], raise_exceptions=False)\n",
    "    print(score)"
   ]
  },
  {
   "cell_type": "code",
   "execution_count": null,
   "metadata": {},
   "outputs": [],
   "source": [
    "from ragas import evaluate\n",
    "from ragas.metrics import (\n",
    "    faithfulness,\n",
    "    answer_relevancy,\n",
    "    context_recall,\n",
    "    context_precision,\n",
    ")\n",
    "\n",
    "result = evaluate(\n",
    "    dataset = dataset, \n",
    "    metrics=[\n",
    "        context_precision,\n",
    "        context_recall,\n",
    "        faithfulness,\n",
    "        answer_relevancy,\n",
    "    ],\n",
    ")\n",
    "\n",
    "df = result.to_pandas()"
   ]
  },
  {
   "cell_type": "code",
   "execution_count": null,
   "metadata": {},
   "outputs": [
    {
     "name": "stdout",
     "output_type": "stream",
     "text": [
      "Requirement already satisfied: streamlit in c:\\users\\osama\\anaconda3\\envs\\gpu\\lib\\site-packages (1.35.0)\n",
      "Requirement already satisfied: altair<6,>=4.0 in c:\\users\\osama\\anaconda3\\envs\\gpu\\lib\\site-packages (from streamlit) (5.3.0)\n",
      "Requirement already satisfied: blinker<2,>=1.0.0 in c:\\users\\osama\\anaconda3\\envs\\gpu\\lib\\site-packages (from streamlit) (1.8.2)\n",
      "Requirement already satisfied: cachetools<6,>=4.0 in c:\\users\\osama\\anaconda3\\envs\\gpu\\lib\\site-packages (from streamlit) (5.3.3)\n",
      "Requirement already satisfied: click<9,>=7.0 in c:\\users\\osama\\anaconda3\\envs\\gpu\\lib\\site-packages (from streamlit) (8.1.7)\n",
      "Requirement already satisfied: numpy<2,>=1.19.3 in c:\\users\\osama\\anaconda3\\envs\\gpu\\lib\\site-packages (from streamlit) (1.24.4)\n",
      "Requirement already satisfied: packaging<25,>=16.8 in c:\\users\\osama\\anaconda3\\envs\\gpu\\lib\\site-packages (from streamlit) (23.2)\n",
      "Requirement already satisfied: pandas<3,>=1.3.0 in c:\\users\\osama\\anaconda3\\envs\\gpu\\lib\\site-packages (from streamlit) (2.0.3)\n",
      "Requirement already satisfied: pillow<11,>=7.1.0 in c:\\users\\osama\\anaconda3\\envs\\gpu\\lib\\site-packages (from streamlit) (10.3.0)\n",
      "Requirement already satisfied: protobuf<5,>=3.20 in c:\\users\\osama\\anaconda3\\envs\\gpu\\lib\\site-packages (from streamlit) (3.20.3)\n",
      "Requirement already satisfied: pyarrow>=7.0 in c:\\users\\osama\\anaconda3\\envs\\gpu\\lib\\site-packages (from streamlit) (16.1.0)\n",
      "Requirement already satisfied: requests<3,>=2.27 in c:\\users\\osama\\anaconda3\\envs\\gpu\\lib\\site-packages (from streamlit) (2.32.3)\n",
      "Requirement already satisfied: rich<14,>=10.14.0 in c:\\users\\osama\\anaconda3\\envs\\gpu\\lib\\site-packages (from streamlit) (13.7.1)\n",
      "Requirement already satisfied: tenacity<9,>=8.1.0 in c:\\users\\osama\\anaconda3\\envs\\gpu\\lib\\site-packages (from streamlit) (8.3.0)\n",
      "Requirement already satisfied: toml<2,>=0.10.1 in c:\\users\\osama\\anaconda3\\envs\\gpu\\lib\\site-packages (from streamlit) (0.10.2)\n",
      "Requirement already satisfied: typing-extensions<5,>=4.3.0 in c:\\users\\osama\\anaconda3\\envs\\gpu\\lib\\site-packages (from streamlit) (4.12.1)\n",
      "Requirement already satisfied: gitpython!=3.1.19,<4,>=3.0.7 in c:\\users\\osama\\anaconda3\\envs\\gpu\\lib\\site-packages (from streamlit) (3.1.43)\n",
      "Requirement already satisfied: pydeck<1,>=0.8.0b4 in c:\\users\\osama\\anaconda3\\envs\\gpu\\lib\\site-packages (from streamlit) (0.9.1)\n",
      "Requirement already satisfied: tornado<7,>=6.0.3 in c:\\users\\osama\\anaconda3\\envs\\gpu\\lib\\site-packages (from streamlit) (6.4)\n",
      "Requirement already satisfied: watchdog>=2.1.5 in c:\\users\\osama\\anaconda3\\envs\\gpu\\lib\\site-packages (from streamlit) (4.0.1)\n",
      "Requirement already satisfied: jinja2 in c:\\users\\osama\\anaconda3\\envs\\gpu\\lib\\site-packages (from altair<6,>=4.0->streamlit) (3.1.4)\n",
      "Requirement already satisfied: jsonschema>=3.0 in c:\\users\\osama\\anaconda3\\envs\\gpu\\lib\\site-packages (from altair<6,>=4.0->streamlit) (4.22.0)\n",
      "Requirement already satisfied: toolz in c:\\users\\osama\\anaconda3\\envs\\gpu\\lib\\site-packages (from altair<6,>=4.0->streamlit) (0.12.1)\n",
      "Requirement already satisfied: colorama in c:\\users\\osama\\anaconda3\\envs\\gpu\\lib\\site-packages (from click<9,>=7.0->streamlit) (0.4.6)\n",
      "Requirement already satisfied: gitdb<5,>=4.0.1 in c:\\users\\osama\\anaconda3\\envs\\gpu\\lib\\site-packages (from gitpython!=3.1.19,<4,>=3.0.7->streamlit) (4.0.11)\n",
      "Requirement already satisfied: python-dateutil>=2.8.2 in c:\\users\\osama\\anaconda3\\envs\\gpu\\lib\\site-packages (from pandas<3,>=1.3.0->streamlit) (2.9.0)\n",
      "Requirement already satisfied: pytz>=2020.1 in c:\\users\\osama\\anaconda3\\envs\\gpu\\lib\\site-packages (from pandas<3,>=1.3.0->streamlit) (2024.1)\n",
      "Requirement already satisfied: tzdata>=2022.1 in c:\\users\\osama\\anaconda3\\envs\\gpu\\lib\\site-packages (from pandas<3,>=1.3.0->streamlit) (2024.1)\n",
      "Requirement already satisfied: charset-normalizer<4,>=2 in c:\\users\\osama\\anaconda3\\envs\\gpu\\lib\\site-packages (from requests<3,>=2.27->streamlit) (3.3.2)\n",
      "Requirement already satisfied: idna<4,>=2.5 in c:\\users\\osama\\anaconda3\\envs\\gpu\\lib\\site-packages (from requests<3,>=2.27->streamlit) (3.7)\n",
      "Requirement already satisfied: urllib3<3,>=1.21.1 in c:\\users\\osama\\anaconda3\\envs\\gpu\\lib\\site-packages (from requests<3,>=2.27->streamlit) (2.2.1)\n",
      "Requirement already satisfied: certifi>=2017.4.17 in c:\\users\\osama\\anaconda3\\envs\\gpu\\lib\\site-packages (from requests<3,>=2.27->streamlit) (2024.6.2)\n",
      "Requirement already satisfied: markdown-it-py>=2.2.0 in c:\\users\\osama\\anaconda3\\envs\\gpu\\lib\\site-packages (from rich<14,>=10.14.0->streamlit) (3.0.0)\n",
      "Requirement already satisfied: pygments<3.0.0,>=2.13.0 in c:\\users\\osama\\anaconda3\\envs\\gpu\\lib\\site-packages (from rich<14,>=10.14.0->streamlit) (2.18.0)\n",
      "Requirement already satisfied: smmap<6,>=3.0.1 in c:\\users\\osama\\anaconda3\\envs\\gpu\\lib\\site-packages (from gitdb<5,>=4.0.1->gitpython!=3.1.19,<4,>=3.0.7->streamlit) (5.0.1)\n",
      "Requirement already satisfied: MarkupSafe>=2.0 in c:\\users\\osama\\anaconda3\\envs\\gpu\\lib\\site-packages (from jinja2->altair<6,>=4.0->streamlit) (2.1.5)\n",
      "Requirement already satisfied: attrs>=22.2.0 in c:\\users\\osama\\anaconda3\\envs\\gpu\\lib\\site-packages (from jsonschema>=3.0->altair<6,>=4.0->streamlit) (23.2.0)\n",
      "Requirement already satisfied: importlib-resources>=1.4.0 in c:\\users\\osama\\anaconda3\\envs\\gpu\\lib\\site-packages (from jsonschema>=3.0->altair<6,>=4.0->streamlit) (6.4.0)\n",
      "Requirement already satisfied: jsonschema-specifications>=2023.03.6 in c:\\users\\osama\\anaconda3\\envs\\gpu\\lib\\site-packages (from jsonschema>=3.0->altair<6,>=4.0->streamlit) (2023.12.1)\n",
      "Requirement already satisfied: pkgutil-resolve-name>=1.3.10 in c:\\users\\osama\\anaconda3\\envs\\gpu\\lib\\site-packages (from jsonschema>=3.0->altair<6,>=4.0->streamlit) (1.3.10)\n",
      "Requirement already satisfied: referencing>=0.28.4 in c:\\users\\osama\\anaconda3\\envs\\gpu\\lib\\site-packages (from jsonschema>=3.0->altair<6,>=4.0->streamlit) (0.35.1)\n",
      "Requirement already satisfied: rpds-py>=0.7.1 in c:\\users\\osama\\anaconda3\\envs\\gpu\\lib\\site-packages (from jsonschema>=3.0->altair<6,>=4.0->streamlit) (0.18.1)\n",
      "Requirement already satisfied: mdurl~=0.1 in c:\\users\\osama\\anaconda3\\envs\\gpu\\lib\\site-packages (from markdown-it-py>=2.2.0->rich<14,>=10.14.0->streamlit) (0.1.2)\n",
      "Requirement already satisfied: six>=1.5 in c:\\users\\osama\\anaconda3\\envs\\gpu\\lib\\site-packages (from python-dateutil>=2.8.2->pandas<3,>=1.3.0->streamlit) (1.16.0)\n",
      "Requirement already satisfied: zipp>=3.1.0 in c:\\users\\osama\\anaconda3\\envs\\gpu\\lib\\site-packages (from importlib-resources>=1.4.0->jsonschema>=3.0->altair<6,>=4.0->streamlit) (3.17.0)\n"
     ]
    }
   ],
   "source": [
    "!pip install streamlit"
   ]
  },
  {
   "cell_type": "code",
   "execution_count": null,
   "metadata": {},
   "outputs": [],
   "source": []
  }
 ],
 "metadata": {
  "kernelspec": {
   "display_name": "GPU",
   "language": "python",
   "name": "python3"
  },
  "language_info": {
   "codemirror_mode": {
    "name": "ipython",
    "version": 3
   },
   "file_extension": ".py",
   "mimetype": "text/x-python",
   "name": "python",
   "nbconvert_exporter": "python",
   "pygments_lexer": "ipython3",
   "version": "3.8.19"
  }
 },
 "nbformat": 4,
 "nbformat_minor": 2
}
